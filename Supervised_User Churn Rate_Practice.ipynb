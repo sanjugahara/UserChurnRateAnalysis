{
 "cells": [
  {
   "cell_type": "markdown",
   "metadata": {},
   "source": [
    "# Part 1 Data Exploration"
   ]
  },
  {
   "cell_type": "code",
   "execution_count": 37,
   "metadata": {
    "collapsed": true
   },
   "outputs": [],
   "source": [
    "# 1.Data loading, observation(distribution, corelation, stripping)\n",
    "# 2.Identify classification/regression problem, consider possible models\n",
    "# 3.Feature Engineering, One-hot-encode (Linearty), drop (unrelated, univariance, low variance), split out ground truth\n",
    "# 4.Model Selection, CV\n",
    "# 5.Hyperparameter tuning, GridSearchCV\n",
    "# 6.Model Evaluation, Confusion Matrix, ROC, AUC, MSE\n",
    "# 7.Feature Selection, Coefficient, optimal number of features, RF feature importance\n",
    "# Probablity option for classifiers\n",
    "\n",
    "# loop through 3,4,5,6,7 for better model and better solution"
   ]
  },
  {
   "cell_type": "markdown",
   "metadata": {},
   "source": [
    "## 1.1 Data loading "
   ]
  },
  {
   "cell_type": "code",
   "execution_count": 38,
   "metadata": {
    "collapsed": true
   },
   "outputs": [],
   "source": [
    "#import packages and data\n",
    "\n",
    "import warnings \n",
    "warnings.filterwarnings('ignore') #ignore warnings\n",
    "\n",
    "import pandas as pd\n",
    "import numpy as np\n",
    "pd.set_option('display.max_columns',None) # unlimited numbers of columns to display\n",
    "\n",
    "churn_df=pd.read_csv('LaiOfferData_downloads/data/churn.all')"
   ]
  },
  {
   "cell_type": "code",
   "execution_count": 39,
   "metadata": {},
   "outputs": [
    {
     "data": {
      "text/html": [
       "<div>\n",
       "<style>\n",
       "    .dataframe thead tr:only-child th {\n",
       "        text-align: right;\n",
       "    }\n",
       "\n",
       "    .dataframe thead th {\n",
       "        text-align: left;\n",
       "    }\n",
       "\n",
       "    .dataframe tbody tr th {\n",
       "        vertical-align: top;\n",
       "    }\n",
       "</style>\n",
       "<table border=\"1\" class=\"dataframe\">\n",
       "  <thead>\n",
       "    <tr style=\"text-align: right;\">\n",
       "      <th></th>\n",
       "      <th>state</th>\n",
       "      <th>account_length</th>\n",
       "      <th>area_code</th>\n",
       "      <th>phone_number</th>\n",
       "      <th>intl_plan</th>\n",
       "      <th>voice_mail_plan</th>\n",
       "      <th>number_vmail_messages</th>\n",
       "      <th>total_day_minutes</th>\n",
       "      <th>total_day_calls</th>\n",
       "      <th>total_day_charge</th>\n",
       "      <th>total_eve_minutes</th>\n",
       "      <th>total_eve_calls</th>\n",
       "      <th>total_eve_charge</th>\n",
       "      <th>total_night_minutes</th>\n",
       "      <th>total_night_calls</th>\n",
       "      <th>total_night_charge</th>\n",
       "      <th>total_intl_minutes</th>\n",
       "      <th>total_intl_calls</th>\n",
       "      <th>total_intl_charge</th>\n",
       "      <th>number_customer_service_calls</th>\n",
       "      <th>churned</th>\n",
       "    </tr>\n",
       "  </thead>\n",
       "  <tbody>\n",
       "    <tr>\n",
       "      <th>0</th>\n",
       "      <td>KS</td>\n",
       "      <td>128</td>\n",
       "      <td>415</td>\n",
       "      <td>382-4657</td>\n",
       "      <td>no</td>\n",
       "      <td>yes</td>\n",
       "      <td>25</td>\n",
       "      <td>265.1</td>\n",
       "      <td>110</td>\n",
       "      <td>45.07</td>\n",
       "      <td>197.4</td>\n",
       "      <td>99</td>\n",
       "      <td>16.78</td>\n",
       "      <td>244.7</td>\n",
       "      <td>91</td>\n",
       "      <td>11.01</td>\n",
       "      <td>10.0</td>\n",
       "      <td>3</td>\n",
       "      <td>2.70</td>\n",
       "      <td>1</td>\n",
       "      <td>False.</td>\n",
       "    </tr>\n",
       "    <tr>\n",
       "      <th>1</th>\n",
       "      <td>OH</td>\n",
       "      <td>107</td>\n",
       "      <td>415</td>\n",
       "      <td>371-7191</td>\n",
       "      <td>no</td>\n",
       "      <td>yes</td>\n",
       "      <td>26</td>\n",
       "      <td>161.6</td>\n",
       "      <td>123</td>\n",
       "      <td>27.47</td>\n",
       "      <td>195.5</td>\n",
       "      <td>103</td>\n",
       "      <td>16.62</td>\n",
       "      <td>254.4</td>\n",
       "      <td>103</td>\n",
       "      <td>11.45</td>\n",
       "      <td>13.7</td>\n",
       "      <td>3</td>\n",
       "      <td>3.70</td>\n",
       "      <td>1</td>\n",
       "      <td>False.</td>\n",
       "    </tr>\n",
       "    <tr>\n",
       "      <th>2</th>\n",
       "      <td>NJ</td>\n",
       "      <td>137</td>\n",
       "      <td>415</td>\n",
       "      <td>358-1921</td>\n",
       "      <td>no</td>\n",
       "      <td>no</td>\n",
       "      <td>0</td>\n",
       "      <td>243.4</td>\n",
       "      <td>114</td>\n",
       "      <td>41.38</td>\n",
       "      <td>121.2</td>\n",
       "      <td>110</td>\n",
       "      <td>10.30</td>\n",
       "      <td>162.6</td>\n",
       "      <td>104</td>\n",
       "      <td>7.32</td>\n",
       "      <td>12.2</td>\n",
       "      <td>5</td>\n",
       "      <td>3.29</td>\n",
       "      <td>0</td>\n",
       "      <td>False.</td>\n",
       "    </tr>\n",
       "    <tr>\n",
       "      <th>3</th>\n",
       "      <td>OH</td>\n",
       "      <td>84</td>\n",
       "      <td>408</td>\n",
       "      <td>375-9999</td>\n",
       "      <td>yes</td>\n",
       "      <td>no</td>\n",
       "      <td>0</td>\n",
       "      <td>299.4</td>\n",
       "      <td>71</td>\n",
       "      <td>50.90</td>\n",
       "      <td>61.9</td>\n",
       "      <td>88</td>\n",
       "      <td>5.26</td>\n",
       "      <td>196.9</td>\n",
       "      <td>89</td>\n",
       "      <td>8.86</td>\n",
       "      <td>6.6</td>\n",
       "      <td>7</td>\n",
       "      <td>1.78</td>\n",
       "      <td>2</td>\n",
       "      <td>False.</td>\n",
       "    </tr>\n",
       "    <tr>\n",
       "      <th>4</th>\n",
       "      <td>OK</td>\n",
       "      <td>75</td>\n",
       "      <td>415</td>\n",
       "      <td>330-6626</td>\n",
       "      <td>yes</td>\n",
       "      <td>no</td>\n",
       "      <td>0</td>\n",
       "      <td>166.7</td>\n",
       "      <td>113</td>\n",
       "      <td>28.34</td>\n",
       "      <td>148.3</td>\n",
       "      <td>122</td>\n",
       "      <td>12.61</td>\n",
       "      <td>186.9</td>\n",
       "      <td>121</td>\n",
       "      <td>8.41</td>\n",
       "      <td>10.1</td>\n",
       "      <td>3</td>\n",
       "      <td>2.73</td>\n",
       "      <td>3</td>\n",
       "      <td>False.</td>\n",
       "    </tr>\n",
       "  </tbody>\n",
       "</table>\n",
       "</div>"
      ],
      "text/plain": [
       "  state  account_length  area_code phone_number intl_plan voice_mail_plan  \\\n",
       "0    KS             128        415     382-4657        no             yes   \n",
       "1    OH             107        415     371-7191        no             yes   \n",
       "2    NJ             137        415     358-1921        no              no   \n",
       "3    OH              84        408     375-9999       yes              no   \n",
       "4    OK              75        415     330-6626       yes              no   \n",
       "\n",
       "   number_vmail_messages  total_day_minutes  total_day_calls  \\\n",
       "0                     25              265.1              110   \n",
       "1                     26              161.6              123   \n",
       "2                      0              243.4              114   \n",
       "3                      0              299.4               71   \n",
       "4                      0              166.7              113   \n",
       "\n",
       "   total_day_charge  total_eve_minutes  total_eve_calls  total_eve_charge  \\\n",
       "0             45.07              197.4               99             16.78   \n",
       "1             27.47              195.5              103             16.62   \n",
       "2             41.38              121.2              110             10.30   \n",
       "3             50.90               61.9               88              5.26   \n",
       "4             28.34              148.3              122             12.61   \n",
       "\n",
       "   total_night_minutes  total_night_calls  total_night_charge  \\\n",
       "0                244.7                 91               11.01   \n",
       "1                254.4                103               11.45   \n",
       "2                162.6                104                7.32   \n",
       "3                196.9                 89                8.86   \n",
       "4                186.9                121                8.41   \n",
       "\n",
       "   total_intl_minutes  total_intl_calls  total_intl_charge  \\\n",
       "0                10.0                 3               2.70   \n",
       "1                13.7                 3               3.70   \n",
       "2                12.2                 5               3.29   \n",
       "3                 6.6                 7               1.78   \n",
       "4                10.1                 3               2.73   \n",
       "\n",
       "   number_customer_service_calls  churned  \n",
       "0                              1   False.  \n",
       "1                              1   False.  \n",
       "2                              0   False.  \n",
       "3                              2   False.  \n",
       "4                              3   False.  "
      ]
     },
     "execution_count": 39,
     "metadata": {},
     "output_type": "execute_result"
    }
   ],
   "source": [
    "churn_df.head()"
   ]
  },
  {
   "cell_type": "code",
   "execution_count": 40,
   "metadata": {},
   "outputs": [
    {
     "name": "stdout",
     "output_type": "stream",
     "text": [
      "Num of rows: 5000\n",
      "Num of columns: 21\n"
     ]
    }
   ],
   "source": [
    "# size of data\n",
    "\n",
    "print 'Num of rows: '+str(churn_df.shape[0]) #row\n",
    "print 'Num of columns: '+str(churn_df.shape[1]) #column"
   ]
  },
  {
   "cell_type": "markdown",
   "metadata": {},
   "source": [
    "## 1.2 Raw Data cleaning (strip)"
   ]
  },
  {
   "cell_type": "code",
   "execution_count": 41,
   "metadata": {},
   "outputs": [
    {
     "data": {
      "text/plain": [
       "' True.'"
      ]
     },
     "execution_count": 41,
     "metadata": {},
     "output_type": "execute_result"
    }
   ],
   "source": [
    "#strip write space\n",
    "\n",
    "churn_df['churned'][10]"
   ]
  },
  {
   "cell_type": "code",
   "execution_count": 42,
   "metadata": {
    "collapsed": true
   },
   "outputs": [],
   "source": [
    "churn_df['churned']=churn_df['churned'].map(lambda x:x.strip())\n",
    "churn_df['voice_mail_plan']=churn_df['voice_mail_plan'].map(lambda x: x.strip())\n",
    "churn_df['intl_plan']=churn_df['intl_plan'].map(lambda x:x.strip())"
   ]
  },
  {
   "cell_type": "code",
   "execution_count": 43,
   "metadata": {},
   "outputs": [
    {
     "data": {
      "text/plain": [
       "'True.'"
      ]
     },
     "execution_count": 43,
     "metadata": {},
     "output_type": "execute_result"
    }
   ],
   "source": [
    "churn_df['churned'][10]"
   ]
  },
  {
   "cell_type": "markdown",
   "metadata": {},
   "source": [
    "## 1.3 Basic Data Stat"
   ]
  },
  {
   "cell_type": "code",
   "execution_count": 44,
   "metadata": {},
   "outputs": [
    {
     "data": {
      "text/plain": [
       "<matplotlib.axes._subplots.AxesSubplot at 0x11ab5b5d0>"
      ]
     },
     "execution_count": 44,
     "metadata": {},
     "output_type": "execute_result"
    },
    {
     "data": {
      "image/png": "[encoded data removed]",
      "text/plain": [
       "<matplotlib.figure.Figure at 0x11ac88bd0>"
      ]
     },
     "metadata": {},
     "output_type": "display_data"
    }
   ],
   "source": [
    "#raw data distribution, correlation\n",
    "\n",
    "%matplotlib inline\n",
    "import matplotlib.pyplot as plt\n",
    "import seaborn as sb\n",
    "\n",
    "sb.distplot(churn_df['total_day_minutes'])"
   ]
  },
  {
   "cell_type": "code",
   "execution_count": 45,
   "metadata": {},
   "outputs": [
    {
     "data": {
      "text/plain": [
       "<matplotlib.axes._subplots.AxesSubplot at 0x11ab5bed0>"
      ]
     },
     "execution_count": 45,
     "metadata": {},
     "output_type": "execute_result"
    },
    {
     "data": {
      "image/png": "[encoded data removed]",
      "text/plain": [
       "<matplotlib.figure.Figure at 0x11a3a1f90>"
      ]
     },
     "metadata": {},
     "output_type": "display_data"
    }
   ],
   "source": [
    "corr=churn_df[churn_df.columns].corr()\n",
    "\n",
    "sb.heatmap(corr)"
   ]
  },
  {
   "cell_type": "code",
   "execution_count": 46,
   "metadata": {},
   "outputs": [
    {
     "data": {
      "text/plain": [
       "0.99999265702083207"
      ]
     },
     "execution_count": 46,
     "metadata": {},
     "output_type": "execute_result"
    }
   ],
   "source": [
    "corr['total_intl_minutes']['total_intl_charge']"
   ]
  },
  {
   "cell_type": "code",
   "execution_count": 47,
   "metadata": {},
   "outputs": [
    {
     "data": {
      "text/html": [
       "<div>\n",
       "<style>\n",
       "    .dataframe thead tr:only-child th {\n",
       "        text-align: right;\n",
       "    }\n",
       "\n",
       "    .dataframe thead th {\n",
       "        text-align: left;\n",
       "    }\n",
       "\n",
       "    .dataframe tbody tr th {\n",
       "        vertical-align: top;\n",
       "    }\n",
       "</style>\n",
       "<table border=\"1\" class=\"dataframe\">\n",
       "  <thead>\n",
       "    <tr style=\"text-align: right;\">\n",
       "      <th></th>\n",
       "      <th>account_length</th>\n",
       "      <th>area_code</th>\n",
       "      <th>number_vmail_messages</th>\n",
       "      <th>total_day_minutes</th>\n",
       "      <th>total_day_calls</th>\n",
       "      <th>total_day_charge</th>\n",
       "      <th>total_eve_minutes</th>\n",
       "      <th>total_eve_calls</th>\n",
       "      <th>total_eve_charge</th>\n",
       "      <th>total_night_minutes</th>\n",
       "      <th>total_night_calls</th>\n",
       "      <th>total_night_charge</th>\n",
       "      <th>total_intl_minutes</th>\n",
       "      <th>total_intl_calls</th>\n",
       "      <th>total_intl_charge</th>\n",
       "      <th>number_customer_service_calls</th>\n",
       "    </tr>\n",
       "  </thead>\n",
       "  <tbody>\n",
       "    <tr>\n",
       "      <th>account_length</th>\n",
       "      <td>1.000000</td>\n",
       "      <td>-0.018054</td>\n",
       "      <td>-0.014575</td>\n",
       "      <td>-0.001017</td>\n",
       "      <td>0.028240</td>\n",
       "      <td>-0.001019</td>\n",
       "      <td>-0.009591</td>\n",
       "      <td>0.009143</td>\n",
       "      <td>-0.009587</td>\n",
       "      <td>0.000668</td>\n",
       "      <td>-0.007825</td>\n",
       "      <td>0.000656</td>\n",
       "      <td>0.001291</td>\n",
       "      <td>0.014277</td>\n",
       "      <td>0.001292</td>\n",
       "      <td>-0.001445</td>\n",
       "    </tr>\n",
       "    <tr>\n",
       "      <th>area_code</th>\n",
       "      <td>-0.018054</td>\n",
       "      <td>1.000000</td>\n",
       "      <td>-0.003399</td>\n",
       "      <td>-0.019118</td>\n",
       "      <td>-0.019314</td>\n",
       "      <td>-0.019119</td>\n",
       "      <td>0.007098</td>\n",
       "      <td>-0.012300</td>\n",
       "      <td>0.007114</td>\n",
       "      <td>0.002084</td>\n",
       "      <td>0.014657</td>\n",
       "      <td>0.002070</td>\n",
       "      <td>-0.004154</td>\n",
       "      <td>-0.013623</td>\n",
       "      <td>-0.004219</td>\n",
       "      <td>0.020921</td>\n",
       "    </tr>\n",
       "    <tr>\n",
       "      <th>number_vmail_messages</th>\n",
       "      <td>-0.014575</td>\n",
       "      <td>-0.003399</td>\n",
       "      <td>1.000000</td>\n",
       "      <td>0.005381</td>\n",
       "      <td>0.000883</td>\n",
       "      <td>0.005377</td>\n",
       "      <td>0.019490</td>\n",
       "      <td>-0.003954</td>\n",
       "      <td>0.019496</td>\n",
       "      <td>0.005541</td>\n",
       "      <td>0.002676</td>\n",
       "      <td>0.005535</td>\n",
       "      <td>0.002463</td>\n",
       "      <td>0.000124</td>\n",
       "      <td>0.002505</td>\n",
       "      <td>-0.007086</td>\n",
       "    </tr>\n",
       "    <tr>\n",
       "      <th>total_day_minutes</th>\n",
       "      <td>-0.001017</td>\n",
       "      <td>-0.019118</td>\n",
       "      <td>0.005381</td>\n",
       "      <td>1.000000</td>\n",
       "      <td>0.001935</td>\n",
       "      <td>1.000000</td>\n",
       "      <td>-0.010750</td>\n",
       "      <td>0.008128</td>\n",
       "      <td>-0.010760</td>\n",
       "      <td>0.011799</td>\n",
       "      <td>0.004236</td>\n",
       "      <td>0.011783</td>\n",
       "      <td>-0.019486</td>\n",
       "      <td>-0.001303</td>\n",
       "      <td>-0.019415</td>\n",
       "      <td>0.002733</td>\n",
       "    </tr>\n",
       "    <tr>\n",
       "      <th>total_day_calls</th>\n",
       "      <td>0.028240</td>\n",
       "      <td>-0.019314</td>\n",
       "      <td>0.000883</td>\n",
       "      <td>0.001935</td>\n",
       "      <td>1.000000</td>\n",
       "      <td>0.001936</td>\n",
       "      <td>-0.000699</td>\n",
       "      <td>0.003754</td>\n",
       "      <td>-0.000695</td>\n",
       "      <td>0.002804</td>\n",
       "      <td>-0.008308</td>\n",
       "      <td>0.002802</td>\n",
       "      <td>0.013097</td>\n",
       "      <td>0.010893</td>\n",
       "      <td>0.013161</td>\n",
       "      <td>-0.010739</td>\n",
       "    </tr>\n",
       "    <tr>\n",
       "      <th>total_day_charge</th>\n",
       "      <td>-0.001019</td>\n",
       "      <td>-0.019119</td>\n",
       "      <td>0.005377</td>\n",
       "      <td>1.000000</td>\n",
       "      <td>0.001936</td>\n",
       "      <td>1.000000</td>\n",
       "      <td>-0.010747</td>\n",
       "      <td>0.008129</td>\n",
       "      <td>-0.010757</td>\n",
       "      <td>0.011801</td>\n",
       "      <td>0.004235</td>\n",
       "      <td>0.011785</td>\n",
       "      <td>-0.019490</td>\n",
       "      <td>-0.001307</td>\n",
       "      <td>-0.019419</td>\n",
       "      <td>0.002726</td>\n",
       "    </tr>\n",
       "    <tr>\n",
       "      <th>total_eve_minutes</th>\n",
       "      <td>-0.009591</td>\n",
       "      <td>0.007098</td>\n",
       "      <td>0.019490</td>\n",
       "      <td>-0.010750</td>\n",
       "      <td>-0.000699</td>\n",
       "      <td>-0.010747</td>\n",
       "      <td>1.000000</td>\n",
       "      <td>0.002763</td>\n",
       "      <td>1.000000</td>\n",
       "      <td>-0.016639</td>\n",
       "      <td>0.013420</td>\n",
       "      <td>-0.016642</td>\n",
       "      <td>0.000137</td>\n",
       "      <td>0.008388</td>\n",
       "      <td>0.000159</td>\n",
       "      <td>-0.013823</td>\n",
       "    </tr>\n",
       "    <tr>\n",
       "      <th>total_eve_calls</th>\n",
       "      <td>0.009143</td>\n",
       "      <td>-0.012300</td>\n",
       "      <td>-0.003954</td>\n",
       "      <td>0.008128</td>\n",
       "      <td>0.003754</td>\n",
       "      <td>0.008129</td>\n",
       "      <td>0.002763</td>\n",
       "      <td>1.000000</td>\n",
       "      <td>0.002778</td>\n",
       "      <td>0.001781</td>\n",
       "      <td>-0.013682</td>\n",
       "      <td>0.001799</td>\n",
       "      <td>-0.007458</td>\n",
       "      <td>0.005574</td>\n",
       "      <td>-0.007507</td>\n",
       "      <td>0.006235</td>\n",
       "    </tr>\n",
       "    <tr>\n",
       "      <th>total_eve_charge</th>\n",
       "      <td>-0.009587</td>\n",
       "      <td>0.007114</td>\n",
       "      <td>0.019496</td>\n",
       "      <td>-0.010760</td>\n",
       "      <td>-0.000695</td>\n",
       "      <td>-0.010757</td>\n",
       "      <td>1.000000</td>\n",
       "      <td>0.002778</td>\n",
       "      <td>1.000000</td>\n",
       "      <td>-0.016649</td>\n",
       "      <td>0.013422</td>\n",
       "      <td>-0.016652</td>\n",
       "      <td>0.000132</td>\n",
       "      <td>0.008393</td>\n",
       "      <td>0.000155</td>\n",
       "      <td>-0.013836</td>\n",
       "    </tr>\n",
       "    <tr>\n",
       "      <th>total_night_minutes</th>\n",
       "      <td>0.000668</td>\n",
       "      <td>0.002084</td>\n",
       "      <td>0.005541</td>\n",
       "      <td>0.011799</td>\n",
       "      <td>0.002804</td>\n",
       "      <td>0.011801</td>\n",
       "      <td>-0.016639</td>\n",
       "      <td>0.001781</td>\n",
       "      <td>-0.016649</td>\n",
       "      <td>1.000000</td>\n",
       "      <td>0.026972</td>\n",
       "      <td>0.999999</td>\n",
       "      <td>-0.006721</td>\n",
       "      <td>-0.017214</td>\n",
       "      <td>-0.006655</td>\n",
       "      <td>-0.008533</td>\n",
       "    </tr>\n",
       "    <tr>\n",
       "      <th>total_night_calls</th>\n",
       "      <td>-0.007825</td>\n",
       "      <td>0.014657</td>\n",
       "      <td>0.002676</td>\n",
       "      <td>0.004236</td>\n",
       "      <td>-0.008308</td>\n",
       "      <td>0.004235</td>\n",
       "      <td>0.013420</td>\n",
       "      <td>-0.013682</td>\n",
       "      <td>0.013422</td>\n",
       "      <td>0.026972</td>\n",
       "      <td>1.000000</td>\n",
       "      <td>0.026949</td>\n",
       "      <td>0.000391</td>\n",
       "      <td>-0.000156</td>\n",
       "      <td>0.000368</td>\n",
       "      <td>-0.008283</td>\n",
       "    </tr>\n",
       "    <tr>\n",
       "      <th>total_night_charge</th>\n",
       "      <td>0.000656</td>\n",
       "      <td>0.002070</td>\n",
       "      <td>0.005535</td>\n",
       "      <td>0.011783</td>\n",
       "      <td>0.002802</td>\n",
       "      <td>0.011785</td>\n",
       "      <td>-0.016642</td>\n",
       "      <td>0.001799</td>\n",
       "      <td>-0.016652</td>\n",
       "      <td>0.999999</td>\n",
       "      <td>0.026949</td>\n",
       "      <td>1.000000</td>\n",
       "      <td>-0.006717</td>\n",
       "      <td>-0.017182</td>\n",
       "      <td>-0.006650</td>\n",
       "      <td>-0.008530</td>\n",
       "    </tr>\n",
       "    <tr>\n",
       "      <th>total_intl_minutes</th>\n",
       "      <td>0.001291</td>\n",
       "      <td>-0.004154</td>\n",
       "      <td>0.002463</td>\n",
       "      <td>-0.019486</td>\n",
       "      <td>0.013097</td>\n",
       "      <td>-0.019490</td>\n",
       "      <td>0.000137</td>\n",
       "      <td>-0.007458</td>\n",
       "      <td>0.000132</td>\n",
       "      <td>-0.006721</td>\n",
       "      <td>0.000391</td>\n",
       "      <td>-0.006717</td>\n",
       "      <td>1.000000</td>\n",
       "      <td>0.016791</td>\n",
       "      <td>0.999993</td>\n",
       "      <td>-0.012122</td>\n",
       "    </tr>\n",
       "    <tr>\n",
       "      <th>total_intl_calls</th>\n",
       "      <td>0.014277</td>\n",
       "      <td>-0.013623</td>\n",
       "      <td>0.000124</td>\n",
       "      <td>-0.001303</td>\n",
       "      <td>0.010893</td>\n",
       "      <td>-0.001307</td>\n",
       "      <td>0.008388</td>\n",
       "      <td>0.005574</td>\n",
       "      <td>0.008393</td>\n",
       "      <td>-0.017214</td>\n",
       "      <td>-0.000156</td>\n",
       "      <td>-0.017182</td>\n",
       "      <td>0.016791</td>\n",
       "      <td>1.000000</td>\n",
       "      <td>0.016900</td>\n",
       "      <td>-0.019147</td>\n",
       "    </tr>\n",
       "    <tr>\n",
       "      <th>total_intl_charge</th>\n",
       "      <td>0.001292</td>\n",
       "      <td>-0.004219</td>\n",
       "      <td>0.002505</td>\n",
       "      <td>-0.019415</td>\n",
       "      <td>0.013161</td>\n",
       "      <td>-0.019419</td>\n",
       "      <td>0.000159</td>\n",
       "      <td>-0.007507</td>\n",
       "      <td>0.000155</td>\n",
       "      <td>-0.006655</td>\n",
       "      <td>0.000368</td>\n",
       "      <td>-0.006650</td>\n",
       "      <td>0.999993</td>\n",
       "      <td>0.016900</td>\n",
       "      <td>1.000000</td>\n",
       "      <td>-0.012180</td>\n",
       "    </tr>\n",
       "    <tr>\n",
       "      <th>number_customer_service_calls</th>\n",
       "      <td>-0.001445</td>\n",
       "      <td>0.020921</td>\n",
       "      <td>-0.007086</td>\n",
       "      <td>0.002733</td>\n",
       "      <td>-0.010739</td>\n",
       "      <td>0.002726</td>\n",
       "      <td>-0.013823</td>\n",
       "      <td>0.006235</td>\n",
       "      <td>-0.013836</td>\n",
       "      <td>-0.008533</td>\n",
       "      <td>-0.008283</td>\n",
       "      <td>-0.008530</td>\n",
       "      <td>-0.012122</td>\n",
       "      <td>-0.019147</td>\n",
       "      <td>-0.012180</td>\n",
       "      <td>1.000000</td>\n",
       "    </tr>\n",
       "  </tbody>\n",
       "</table>\n",
       "</div>"
      ],
      "text/plain": [
       "                               account_length  area_code  \\\n",
       "account_length                       1.000000  -0.018054   \n",
       "area_code                           -0.018054   1.000000   \n",
       "number_vmail_messages               -0.014575  -0.003399   \n",
       "total_day_minutes                   -0.001017  -0.019118   \n",
       "total_day_calls                      0.028240  -0.019314   \n",
       "total_day_charge                    -0.001019  -0.019119   \n",
       "total_eve_minutes                   -0.009591   0.007098   \n",
       "total_eve_calls                      0.009143  -0.012300   \n",
       "total_eve_charge                    -0.009587   0.007114   \n",
       "total_night_minutes                  0.000668   0.002084   \n",
       "total_night_calls                   -0.007825   0.014657   \n",
       "total_night_charge                   0.000656   0.002070   \n",
       "total_intl_minutes                   0.001291  -0.004154   \n",
       "total_intl_calls                     0.014277  -0.013623   \n",
       "total_intl_charge                    0.001292  -0.004219   \n",
       "number_customer_service_calls       -0.001445   0.020921   \n",
       "\n",
       "                               number_vmail_messages  total_day_minutes  \\\n",
       "account_length                             -0.014575          -0.001017   \n",
       "area_code                                  -0.003399          -0.019118   \n",
       "number_vmail_messages                       1.000000           0.005381   \n",
       "total_day_minutes                           0.005381           1.000000   \n",
       "total_day_calls                             0.000883           0.001935   \n",
       "total_day_charge                            0.005377           1.000000   \n",
       "total_eve_minutes                           0.019490          -0.010750   \n",
       "total_eve_calls                            -0.003954           0.008128   \n",
       "total_eve_charge                            0.019496          -0.010760   \n",
       "total_night_minutes                         0.005541           0.011799   \n",
       "total_night_calls                           0.002676           0.004236   \n",
       "total_night_charge                          0.005535           0.011783   \n",
       "total_intl_minutes                          0.002463          -0.019486   \n",
       "total_intl_calls                            0.000124          -0.001303   \n",
       "total_intl_charge                           0.002505          -0.019415   \n",
       "number_customer_service_calls              -0.007086           0.002733   \n",
       "\n",
       "                               total_day_calls  total_day_charge  \\\n",
       "account_length                        0.028240         -0.001019   \n",
       "area_code                            -0.019314         -0.019119   \n",
       "number_vmail_messages                 0.000883          0.005377   \n",
       "total_day_minutes                     0.001935          1.000000   \n",
       "total_day_calls                       1.000000          0.001936   \n",
       "total_day_charge                      0.001936          1.000000   \n",
       "total_eve_minutes                    -0.000699         -0.010747   \n",
       "total_eve_calls                       0.003754          0.008129   \n",
       "total_eve_charge                     -0.000695         -0.010757   \n",
       "total_night_minutes                   0.002804          0.011801   \n",
       "total_night_calls                    -0.008308          0.004235   \n",
       "total_night_charge                    0.002802          0.011785   \n",
       "total_intl_minutes                    0.013097         -0.019490   \n",
       "total_intl_calls                      0.010893         -0.001307   \n",
       "total_intl_charge                     0.013161         -0.019419   \n",
       "number_customer_service_calls        -0.010739          0.002726   \n",
       "\n",
       "                               total_eve_minutes  total_eve_calls  \\\n",
       "account_length                         -0.009591         0.009143   \n",
       "area_code                               0.007098        -0.012300   \n",
       "number_vmail_messages                   0.019490        -0.003954   \n",
       "total_day_minutes                      -0.010750         0.008128   \n",
       "total_day_calls                        -0.000699         0.003754   \n",
       "total_day_charge                       -0.010747         0.008129   \n",
       "total_eve_minutes                       1.000000         0.002763   \n",
       "total_eve_calls                         0.002763         1.000000   \n",
       "total_eve_charge                        1.000000         0.002778   \n",
       "total_night_minutes                    -0.016639         0.001781   \n",
       "total_night_calls                       0.013420        -0.013682   \n",
       "total_night_charge                     -0.016642         0.001799   \n",
       "total_intl_minutes                      0.000137        -0.007458   \n",
       "total_intl_calls                        0.008388         0.005574   \n",
       "total_intl_charge                       0.000159        -0.007507   \n",
       "number_customer_service_calls          -0.013823         0.006235   \n",
       "\n",
       "                               total_eve_charge  total_night_minutes  \\\n",
       "account_length                        -0.009587             0.000668   \n",
       "area_code                              0.007114             0.002084   \n",
       "number_vmail_messages                  0.019496             0.005541   \n",
       "total_day_minutes                     -0.010760             0.011799   \n",
       "total_day_calls                       -0.000695             0.002804   \n",
       "total_day_charge                      -0.010757             0.011801   \n",
       "total_eve_minutes                      1.000000            -0.016639   \n",
       "total_eve_calls                        0.002778             0.001781   \n",
       "total_eve_charge                       1.000000            -0.016649   \n",
       "total_night_minutes                   -0.016649             1.000000   \n",
       "total_night_calls                      0.013422             0.026972   \n",
       "total_night_charge                    -0.016652             0.999999   \n",
       "total_intl_minutes                     0.000132            -0.006721   \n",
       "total_intl_calls                       0.008393            -0.017214   \n",
       "total_intl_charge                      0.000155            -0.006655   \n",
       "number_customer_service_calls         -0.013836            -0.008533   \n",
       "\n",
       "                               total_night_calls  total_night_charge  \\\n",
       "account_length                         -0.007825            0.000656   \n",
       "area_code                               0.014657            0.002070   \n",
       "number_vmail_messages                   0.002676            0.005535   \n",
       "total_day_minutes                       0.004236            0.011783   \n",
       "total_day_calls                        -0.008308            0.002802   \n",
       "total_day_charge                        0.004235            0.011785   \n",
       "total_eve_minutes                       0.013420           -0.016642   \n",
       "total_eve_calls                        -0.013682            0.001799   \n",
       "total_eve_charge                        0.013422           -0.016652   \n",
       "total_night_minutes                     0.026972            0.999999   \n",
       "total_night_calls                       1.000000            0.026949   \n",
       "total_night_charge                      0.026949            1.000000   \n",
       "total_intl_minutes                      0.000391           -0.006717   \n",
       "total_intl_calls                       -0.000156           -0.017182   \n",
       "total_intl_charge                       0.000368           -0.006650   \n",
       "number_customer_service_calls          -0.008283           -0.008530   \n",
       "\n",
       "                               total_intl_minutes  total_intl_calls  \\\n",
       "account_length                           0.001291          0.014277   \n",
       "area_code                               -0.004154         -0.013623   \n",
       "number_vmail_messages                    0.002463          0.000124   \n",
       "total_day_minutes                       -0.019486         -0.001303   \n",
       "total_day_calls                          0.013097          0.010893   \n",
       "total_day_charge                        -0.019490         -0.001307   \n",
       "total_eve_minutes                        0.000137          0.008388   \n",
       "total_eve_calls                         -0.007458          0.005574   \n",
       "total_eve_charge                         0.000132          0.008393   \n",
       "total_night_minutes                     -0.006721         -0.017214   \n",
       "total_night_calls                        0.000391         -0.000156   \n",
       "total_night_charge                      -0.006717         -0.017182   \n",
       "total_intl_minutes                       1.000000          0.016791   \n",
       "total_intl_calls                         0.016791          1.000000   \n",
       "total_intl_charge                        0.999993          0.016900   \n",
       "number_customer_service_calls           -0.012122         -0.019147   \n",
       "\n",
       "                               total_intl_charge  \\\n",
       "account_length                          0.001292   \n",
       "area_code                              -0.004219   \n",
       "number_vmail_messages                   0.002505   \n",
       "total_day_minutes                      -0.019415   \n",
       "total_day_calls                         0.013161   \n",
       "total_day_charge                       -0.019419   \n",
       "total_eve_minutes                       0.000159   \n",
       "total_eve_calls                        -0.007507   \n",
       "total_eve_charge                        0.000155   \n",
       "total_night_minutes                    -0.006655   \n",
       "total_night_calls                       0.000368   \n",
       "total_night_charge                     -0.006650   \n",
       "total_intl_minutes                      0.999993   \n",
       "total_intl_calls                        0.016900   \n",
       "total_intl_charge                       1.000000   \n",
       "number_customer_service_calls          -0.012180   \n",
       "\n",
       "                               number_customer_service_calls  \n",
       "account_length                                     -0.001445  \n",
       "area_code                                           0.020921  \n",
       "number_vmail_messages                              -0.007086  \n",
       "total_day_minutes                                   0.002733  \n",
       "total_day_calls                                    -0.010739  \n",
       "total_day_charge                                    0.002726  \n",
       "total_eve_minutes                                  -0.013823  \n",
       "total_eve_calls                                     0.006235  \n",
       "total_eve_charge                                   -0.013836  \n",
       "total_night_minutes                                -0.008533  \n",
       "total_night_calls                                  -0.008283  \n",
       "total_night_charge                                 -0.008530  \n",
       "total_intl_minutes                                 -0.012122  \n",
       "total_intl_calls                                   -0.019147  \n",
       "total_intl_charge                                  -0.012180  \n",
       "number_customer_service_calls                       1.000000  "
      ]
     },
     "execution_count": 47,
     "metadata": {},
     "output_type": "execute_result"
    }
   ],
   "source": [
    "corr"
   ]
  },
  {
   "cell_type": "markdown",
   "metadata": {},
   "source": [
    "# Part 2 Feature Processing"
   ]
  },
  {
   "cell_type": "code",
   "execution_count": 48,
   "metadata": {},
   "outputs": [
    {
     "data": {
      "text/html": [
       "<div>\n",
       "<style>\n",
       "    .dataframe thead tr:only-child th {\n",
       "        text-align: right;\n",
       "    }\n",
       "\n",
       "    .dataframe thead th {\n",
       "        text-align: left;\n",
       "    }\n",
       "\n",
       "    .dataframe tbody tr th {\n",
       "        vertical-align: top;\n",
       "    }\n",
       "</style>\n",
       "<table border=\"1\" class=\"dataframe\">\n",
       "  <thead>\n",
       "    <tr style=\"text-align: right;\">\n",
       "      <th></th>\n",
       "      <th>state</th>\n",
       "      <th>account_length</th>\n",
       "      <th>area_code</th>\n",
       "      <th>phone_number</th>\n",
       "      <th>intl_plan</th>\n",
       "      <th>voice_mail_plan</th>\n",
       "      <th>number_vmail_messages</th>\n",
       "      <th>total_day_minutes</th>\n",
       "      <th>total_day_calls</th>\n",
       "      <th>total_day_charge</th>\n",
       "      <th>total_eve_minutes</th>\n",
       "      <th>total_eve_calls</th>\n",
       "      <th>total_eve_charge</th>\n",
       "      <th>total_night_minutes</th>\n",
       "      <th>total_night_calls</th>\n",
       "      <th>total_night_charge</th>\n",
       "      <th>total_intl_minutes</th>\n",
       "      <th>total_intl_calls</th>\n",
       "      <th>total_intl_charge</th>\n",
       "      <th>number_customer_service_calls</th>\n",
       "      <th>churned</th>\n",
       "    </tr>\n",
       "  </thead>\n",
       "  <tbody>\n",
       "    <tr>\n",
       "      <th>0</th>\n",
       "      <td>KS</td>\n",
       "      <td>128</td>\n",
       "      <td>415</td>\n",
       "      <td>382-4657</td>\n",
       "      <td>no</td>\n",
       "      <td>yes</td>\n",
       "      <td>25</td>\n",
       "      <td>265.1</td>\n",
       "      <td>110</td>\n",
       "      <td>45.07</td>\n",
       "      <td>197.4</td>\n",
       "      <td>99</td>\n",
       "      <td>16.78</td>\n",
       "      <td>244.7</td>\n",
       "      <td>91</td>\n",
       "      <td>11.01</td>\n",
       "      <td>10.0</td>\n",
       "      <td>3</td>\n",
       "      <td>2.70</td>\n",
       "      <td>1</td>\n",
       "      <td>False.</td>\n",
       "    </tr>\n",
       "    <tr>\n",
       "      <th>1</th>\n",
       "      <td>OH</td>\n",
       "      <td>107</td>\n",
       "      <td>415</td>\n",
       "      <td>371-7191</td>\n",
       "      <td>no</td>\n",
       "      <td>yes</td>\n",
       "      <td>26</td>\n",
       "      <td>161.6</td>\n",
       "      <td>123</td>\n",
       "      <td>27.47</td>\n",
       "      <td>195.5</td>\n",
       "      <td>103</td>\n",
       "      <td>16.62</td>\n",
       "      <td>254.4</td>\n",
       "      <td>103</td>\n",
       "      <td>11.45</td>\n",
       "      <td>13.7</td>\n",
       "      <td>3</td>\n",
       "      <td>3.70</td>\n",
       "      <td>1</td>\n",
       "      <td>False.</td>\n",
       "    </tr>\n",
       "    <tr>\n",
       "      <th>2</th>\n",
       "      <td>NJ</td>\n",
       "      <td>137</td>\n",
       "      <td>415</td>\n",
       "      <td>358-1921</td>\n",
       "      <td>no</td>\n",
       "      <td>no</td>\n",
       "      <td>0</td>\n",
       "      <td>243.4</td>\n",
       "      <td>114</td>\n",
       "      <td>41.38</td>\n",
       "      <td>121.2</td>\n",
       "      <td>110</td>\n",
       "      <td>10.30</td>\n",
       "      <td>162.6</td>\n",
       "      <td>104</td>\n",
       "      <td>7.32</td>\n",
       "      <td>12.2</td>\n",
       "      <td>5</td>\n",
       "      <td>3.29</td>\n",
       "      <td>0</td>\n",
       "      <td>False.</td>\n",
       "    </tr>\n",
       "    <tr>\n",
       "      <th>3</th>\n",
       "      <td>OH</td>\n",
       "      <td>84</td>\n",
       "      <td>408</td>\n",
       "      <td>375-9999</td>\n",
       "      <td>yes</td>\n",
       "      <td>no</td>\n",
       "      <td>0</td>\n",
       "      <td>299.4</td>\n",
       "      <td>71</td>\n",
       "      <td>50.90</td>\n",
       "      <td>61.9</td>\n",
       "      <td>88</td>\n",
       "      <td>5.26</td>\n",
       "      <td>196.9</td>\n",
       "      <td>89</td>\n",
       "      <td>8.86</td>\n",
       "      <td>6.6</td>\n",
       "      <td>7</td>\n",
       "      <td>1.78</td>\n",
       "      <td>2</td>\n",
       "      <td>False.</td>\n",
       "    </tr>\n",
       "    <tr>\n",
       "      <th>4</th>\n",
       "      <td>OK</td>\n",
       "      <td>75</td>\n",
       "      <td>415</td>\n",
       "      <td>330-6626</td>\n",
       "      <td>yes</td>\n",
       "      <td>no</td>\n",
       "      <td>0</td>\n",
       "      <td>166.7</td>\n",
       "      <td>113</td>\n",
       "      <td>28.34</td>\n",
       "      <td>148.3</td>\n",
       "      <td>122</td>\n",
       "      <td>12.61</td>\n",
       "      <td>186.9</td>\n",
       "      <td>121</td>\n",
       "      <td>8.41</td>\n",
       "      <td>10.1</td>\n",
       "      <td>3</td>\n",
       "      <td>2.73</td>\n",
       "      <td>3</td>\n",
       "      <td>False.</td>\n",
       "    </tr>\n",
       "  </tbody>\n",
       "</table>\n",
       "</div>"
      ],
      "text/plain": [
       "  state  account_length  area_code phone_number intl_plan voice_mail_plan  \\\n",
       "0    KS             128        415     382-4657        no             yes   \n",
       "1    OH             107        415     371-7191        no             yes   \n",
       "2    NJ             137        415     358-1921        no              no   \n",
       "3    OH              84        408     375-9999       yes              no   \n",
       "4    OK              75        415     330-6626       yes              no   \n",
       "\n",
       "   number_vmail_messages  total_day_minutes  total_day_calls  \\\n",
       "0                     25              265.1              110   \n",
       "1                     26              161.6              123   \n",
       "2                      0              243.4              114   \n",
       "3                      0              299.4               71   \n",
       "4                      0              166.7              113   \n",
       "\n",
       "   total_day_charge  total_eve_minutes  total_eve_calls  total_eve_charge  \\\n",
       "0             45.07              197.4               99             16.78   \n",
       "1             27.47              195.5              103             16.62   \n",
       "2             41.38              121.2              110             10.30   \n",
       "3             50.90               61.9               88              5.26   \n",
       "4             28.34              148.3              122             12.61   \n",
       "\n",
       "   total_night_minutes  total_night_calls  total_night_charge  \\\n",
       "0                244.7                 91               11.01   \n",
       "1                254.4                103               11.45   \n",
       "2                162.6                104                7.32   \n",
       "3                196.9                 89                8.86   \n",
       "4                186.9                121                8.41   \n",
       "\n",
       "   total_intl_minutes  total_intl_calls  total_intl_charge  \\\n",
       "0                10.0                 3               2.70   \n",
       "1                13.7                 3               3.70   \n",
       "2                12.2                 5               3.29   \n",
       "3                 6.6                 7               1.78   \n",
       "4                10.1                 3               2.73   \n",
       "\n",
       "   number_customer_service_calls churned  \n",
       "0                              1  False.  \n",
       "1                              1  False.  \n",
       "2                              0  False.  \n",
       "3                              2  False.  \n",
       "4                              3  False.  "
      ]
     },
     "execution_count": 48,
     "metadata": {},
     "output_type": "execute_result"
    }
   ],
   "source": [
    "churn_df.head()"
   ]
  },
  {
   "cell_type": "code",
   "execution_count": 49,
   "metadata": {},
   "outputs": [
    {
     "data": {
      "text/html": [
       "<div>\n",
       "<style>\n",
       "    .dataframe thead tr:only-child th {\n",
       "        text-align: right;\n",
       "    }\n",
       "\n",
       "    .dataframe thead th {\n",
       "        text-align: left;\n",
       "    }\n",
       "\n",
       "    .dataframe tbody tr th {\n",
       "        vertical-align: top;\n",
       "    }\n",
       "</style>\n",
       "<table border=\"1\" class=\"dataframe\">\n",
       "  <thead>\n",
       "    <tr style=\"text-align: right;\">\n",
       "      <th></th>\n",
       "      <th>account_length</th>\n",
       "      <th>intl_plan</th>\n",
       "      <th>voice_mail_plan</th>\n",
       "      <th>number_vmail_messages</th>\n",
       "      <th>total_day_minutes</th>\n",
       "      <th>total_day_calls</th>\n",
       "      <th>total_day_charge</th>\n",
       "      <th>total_eve_minutes</th>\n",
       "      <th>total_eve_calls</th>\n",
       "      <th>total_eve_charge</th>\n",
       "      <th>total_night_minutes</th>\n",
       "      <th>total_night_calls</th>\n",
       "      <th>total_night_charge</th>\n",
       "      <th>total_intl_minutes</th>\n",
       "      <th>total_intl_calls</th>\n",
       "      <th>total_intl_charge</th>\n",
       "      <th>number_customer_service_calls</th>\n",
       "    </tr>\n",
       "  </thead>\n",
       "  <tbody>\n",
       "    <tr>\n",
       "      <th>0</th>\n",
       "      <td>128</td>\n",
       "      <td>False</td>\n",
       "      <td>True</td>\n",
       "      <td>25</td>\n",
       "      <td>265.1</td>\n",
       "      <td>110</td>\n",
       "      <td>45.07</td>\n",
       "      <td>197.4</td>\n",
       "      <td>99</td>\n",
       "      <td>16.78</td>\n",
       "      <td>244.7</td>\n",
       "      <td>91</td>\n",
       "      <td>11.01</td>\n",
       "      <td>10.0</td>\n",
       "      <td>3</td>\n",
       "      <td>2.70</td>\n",
       "      <td>1</td>\n",
       "    </tr>\n",
       "    <tr>\n",
       "      <th>1</th>\n",
       "      <td>107</td>\n",
       "      <td>False</td>\n",
       "      <td>True</td>\n",
       "      <td>26</td>\n",
       "      <td>161.6</td>\n",
       "      <td>123</td>\n",
       "      <td>27.47</td>\n",
       "      <td>195.5</td>\n",
       "      <td>103</td>\n",
       "      <td>16.62</td>\n",
       "      <td>254.4</td>\n",
       "      <td>103</td>\n",
       "      <td>11.45</td>\n",
       "      <td>13.7</td>\n",
       "      <td>3</td>\n",
       "      <td>3.70</td>\n",
       "      <td>1</td>\n",
       "    </tr>\n",
       "    <tr>\n",
       "      <th>2</th>\n",
       "      <td>137</td>\n",
       "      <td>False</td>\n",
       "      <td>False</td>\n",
       "      <td>0</td>\n",
       "      <td>243.4</td>\n",
       "      <td>114</td>\n",
       "      <td>41.38</td>\n",
       "      <td>121.2</td>\n",
       "      <td>110</td>\n",
       "      <td>10.30</td>\n",
       "      <td>162.6</td>\n",
       "      <td>104</td>\n",
       "      <td>7.32</td>\n",
       "      <td>12.2</td>\n",
       "      <td>5</td>\n",
       "      <td>3.29</td>\n",
       "      <td>0</td>\n",
       "    </tr>\n",
       "    <tr>\n",
       "      <th>3</th>\n",
       "      <td>84</td>\n",
       "      <td>True</td>\n",
       "      <td>False</td>\n",
       "      <td>0</td>\n",
       "      <td>299.4</td>\n",
       "      <td>71</td>\n",
       "      <td>50.90</td>\n",
       "      <td>61.9</td>\n",
       "      <td>88</td>\n",
       "      <td>5.26</td>\n",
       "      <td>196.9</td>\n",
       "      <td>89</td>\n",
       "      <td>8.86</td>\n",
       "      <td>6.6</td>\n",
       "      <td>7</td>\n",
       "      <td>1.78</td>\n",
       "      <td>2</td>\n",
       "    </tr>\n",
       "    <tr>\n",
       "      <th>4</th>\n",
       "      <td>75</td>\n",
       "      <td>True</td>\n",
       "      <td>False</td>\n",
       "      <td>0</td>\n",
       "      <td>166.7</td>\n",
       "      <td>113</td>\n",
       "      <td>28.34</td>\n",
       "      <td>148.3</td>\n",
       "      <td>122</td>\n",
       "      <td>12.61</td>\n",
       "      <td>186.9</td>\n",
       "      <td>121</td>\n",
       "      <td>8.41</td>\n",
       "      <td>10.1</td>\n",
       "      <td>3</td>\n",
       "      <td>2.73</td>\n",
       "      <td>3</td>\n",
       "    </tr>\n",
       "  </tbody>\n",
       "</table>\n",
       "</div>"
      ],
      "text/plain": [
       "   account_length  intl_plan  voice_mail_plan  number_vmail_messages  \\\n",
       "0             128      False             True                     25   \n",
       "1             107      False             True                     26   \n",
       "2             137      False            False                      0   \n",
       "3              84       True            False                      0   \n",
       "4              75       True            False                      0   \n",
       "\n",
       "   total_day_minutes  total_day_calls  total_day_charge  total_eve_minutes  \\\n",
       "0              265.1              110             45.07              197.4   \n",
       "1              161.6              123             27.47              195.5   \n",
       "2              243.4              114             41.38              121.2   \n",
       "3              299.4               71             50.90               61.9   \n",
       "4              166.7              113             28.34              148.3   \n",
       "\n",
       "   total_eve_calls  total_eve_charge  total_night_minutes  total_night_calls  \\\n",
       "0               99             16.78                244.7                 91   \n",
       "1              103             16.62                254.4                103   \n",
       "2              110             10.30                162.6                104   \n",
       "3               88              5.26                196.9                 89   \n",
       "4              122             12.61                186.9                121   \n",
       "\n",
       "   total_night_charge  total_intl_minutes  total_intl_calls  \\\n",
       "0               11.01                10.0                 3   \n",
       "1               11.45                13.7                 3   \n",
       "2                7.32                12.2                 5   \n",
       "3                8.86                 6.6                 7   \n",
       "4                8.41                10.1                 3   \n",
       "\n",
       "   total_intl_charge  number_customer_service_calls  \n",
       "0               2.70                              1  \n",
       "1               3.70                              1  \n",
       "2               3.29                              0  \n",
       "3               1.78                              2  \n",
       "4               2.73                              3  "
      ]
     },
     "execution_count": 49,
     "metadata": {},
     "output_type": "execute_result"
    }
   ],
   "source": [
    "# Get ground truth\n",
    "\n",
    "y=np.where(churn_df['churned']=='True.',1,0)\n",
    "\n",
    "#Drop ground truth and other useless columns\n",
    "to_drop=['state','area_code','phone_number','churned']\n",
    "churn_dropped=churn_df.drop(to_drop,axis=1) #axis=1, apply to column\n",
    "\n",
    "# yes or no converted to boolean values\n",
    "yes_no=['intl_plan','voice_mail_plan']\n",
    "churn_dropped['intl_plan']=churn_dropped['intl_plan'].map(lambda x: x=='yes')   #can only map one column at a time\n",
    "churn_dropped['voice_mail_plan']=churn_dropped['voice_mail_plan'].map(lambda x: x=='yes')\n",
    "\n",
    "#yes_no_cols = [\"intl_plan\",\"voice_mail_plan\"]\n",
    "#churn_feat_space[yes_no_cols] = churn_feat_space[yes_no_cols] == 'yes'\n",
    "\n",
    "churn_dropped.head()"
   ]
  },
  {
   "cell_type": "code",
   "execution_count": 50,
   "metadata": {},
   "outputs": [
    {
     "data": {
      "text/plain": [
       "array([[ 128.  ,    0.  ,    1.  , ...,    3.  ,    2.7 ,    1.  ],\n",
       "       [ 107.  ,    0.  ,    1.  , ...,    3.  ,    3.7 ,    1.  ],\n",
       "       [ 137.  ,    0.  ,    0.  , ...,    5.  ,    3.29,    0.  ],\n",
       "       ..., \n",
       "       [  61.  ,    0.  ,    0.  , ...,    4.  ,    3.67,    1.  ],\n",
       "       [ 109.  ,    0.  ,    0.  , ...,    6.  ,    2.3 ,    0.  ],\n",
       "       [  86.  ,    0.  ,    1.  , ...,   16.  ,    2.51,    0.  ]])"
      ]
     },
     "execution_count": 50,
     "metadata": {},
     "output_type": "execute_result"
    }
   ],
   "source": [
    "# Convert dataframe to Numpy-array \n",
    "x=churn_dropped.as_matrix().astype(np.float) # from panda dataframe to np array\n",
    "\n",
    "x"
   ]
  },
  {
   "cell_type": "code",
   "execution_count": 51,
   "metadata": {},
   "outputs": [
    {
     "name": "stdout",
     "output_type": "stream",
     "text": [
      "Feature space holds 5000 observations and 17 features\n",
      "Unique target lables:  [0 1]\n"
     ]
    }
   ],
   "source": [
    "# Scale data\n",
    "from sklearn.preprocessing import StandardScaler\n",
    "scaler=StandardScaler() # standardization: 0 mean, unit variance\n",
    "x=scaler.fit_transform(x)\n",
    "\n",
    "print 'Feature space holds %d observations and %d features' % x.shape\n",
    "print 'Unique target lables: ',np.unique(y)"
   ]
  },
  {
   "cell_type": "code",
   "execution_count": 52,
   "metadata": {},
   "outputs": [
    {
     "data": {
      "text/plain": [
       "array([[ 0.69894149, -0.32324017,  1.66712012, ..., -0.58423577,\n",
       "        -0.0955088 , -0.43667564],\n",
       "       [ 0.16984882, -0.32324017,  1.66712012, ..., -0.58423577,\n",
       "         1.24598231, -0.43667564],\n",
       "       [ 0.92569549, -0.32324017, -0.5998368 , ...,  0.22991664,\n",
       "         0.69597096, -1.20223603],\n",
       "       ..., \n",
       "       [-0.98911606, -0.32324017, -0.5998368 , ..., -0.17715957,\n",
       "         1.20573758, -0.43667564],\n",
       "       [ 0.2202386 , -0.32324017, -0.5998368 , ...,  0.63699285,\n",
       "        -0.63210525, -1.20223603],\n",
       "       [-0.35924384, -0.32324017,  1.66712012, ...,  4.70775494,\n",
       "        -0.35039211, -1.20223603]])"
      ]
     },
     "execution_count": 52,
     "metadata": {},
     "output_type": "execute_result"
    }
   ],
   "source": [
    "x"
   ]
  },
  {
   "cell_type": "markdown",
   "metadata": {},
   "source": [
    "# Part 3 Model Training and Evaluation"
   ]
  },
  {
   "cell_type": "markdown",
   "metadata": {},
   "source": [
    "## 3.1 KFold CV"
   ]
  },
  {
   "cell_type": "code",
   "execution_count": 53,
   "metadata": {
    "collapsed": true
   },
   "outputs": [],
   "source": [
    "#Cross Validation can only validate the model selection (not good at model evaluation: CM, ROC, AUC, MSE)\n",
    "\n",
    "from sklearn.model_selection import KFold\n",
    "\n",
    "def cv(x,y,n_splits,clf,**params):    ## ** keyworded paremeter with any length, exp: n_neighbors=5\n",
    "    kf=KFold(n_splits=n_splits,shuffle=True)\n",
    "    y_pred=y.copy()\n",
    "    clf=clf(**params)                 ## certain clf model is an input \n",
    "    for train,test in kf.split(x,y):\n",
    "        x_train,x_test=x[train],x[test]\n",
    "        y_train=y[train]\n",
    "        clf.fit(x_train,y_train)\n",
    "        y_pred[test]=clf.predict(x_test)\n",
    "    return y_pred"
   ]
  },
  {
   "cell_type": "markdown",
   "metadata": {},
   "source": [
    "## 3.2 Train Model, predict results, calculate accuracy"
   ]
  },
  {
   "cell_type": "code",
   "execution_count": 54,
   "metadata": {
    "collapsed": true
   },
   "outputs": [],
   "source": [
    "from sklearn.ensemble import RandomForestClassifier\n",
    "from sklearn.neighbors import KNeighborsClassifier\n",
    "from sklearn.linear_model import LogisticRegression\n",
    "from sklearn.svm import LinearSVC\n",
    "\n",
    "## Can only calculate accuracy with CV , \n",
    "##classifier for biased prediction better have confusion matrix for evaluation\n",
    "def accuracy(y_true,y_pred):       \n",
    "    return np.mean(y_true==y_pred)\n",
    "\n",
    "LR_CV_predict=cv(x,y,5,LogisticRegression)\n",
    "RF_CV_predict=cv(x,y,5,RandomForestClassifier)\n",
    "KNN_CV_predict=cv(x,y,5,KNeighborsClassifier) ##n_neighbors=5 as default\n",
    "SVM_CV_predict=cv(x,y,5,LinearSVC)\n"
   ]
  },
  {
   "cell_type": "code",
   "execution_count": 55,
   "metadata": {},
   "outputs": [
    {
     "name": "stdout",
     "output_type": "stream",
     "text": [
      "Logistic Regression (L2 is default): 0.8656\n",
      "Random Forest: 0.9502\n",
      "K-nearest-neighbors: 0.8998\n",
      "SVM: 0.8654\n"
     ]
    }
   ],
   "source": [
    "print \"Logistic Regression (L2 is default): \" + str(accuracy(y, LR_CV_predict))\n",
    "print \"Random Forest: \" + str(accuracy(y, RF_CV_predict))\n",
    "print \"K-nearest-neighbors: \" + str(accuracy(y, KNN_CV_predict))\n",
    "print \"SVM: \" + str(accuracy(y, SVM_CV_predict))"
   ]
  },
  {
   "cell_type": "code",
   "execution_count": 56,
   "metadata": {},
   "outputs": [
    {
     "data": {
      "text/html": [
       "<div>\n",
       "<style>\n",
       "    .dataframe thead tr:only-child th {\n",
       "        text-align: right;\n",
       "    }\n",
       "\n",
       "    .dataframe thead th {\n",
       "        text-align: left;\n",
       "    }\n",
       "\n",
       "    .dataframe tbody tr th {\n",
       "        vertical-align: top;\n",
       "    }\n",
       "</style>\n",
       "<table border=\"1\" class=\"dataframe\">\n",
       "  <thead>\n",
       "    <tr style=\"text-align: right;\">\n",
       "      <th></th>\n",
       "      <th>churned</th>\n",
       "      <th>LR_predicted_churn</th>\n",
       "      <th>RF_predicted_churn</th>\n",
       "      <th>KNN_predicted_churn</th>\n",
       "      <th>SVM_predicted_churn</th>\n",
       "    </tr>\n",
       "  </thead>\n",
       "  <tbody>\n",
       "    <tr>\n",
       "      <th>0</th>\n",
       "      <td>False.</td>\n",
       "      <td>False</td>\n",
       "      <td>False</td>\n",
       "      <td>False</td>\n",
       "      <td>False</td>\n",
       "    </tr>\n",
       "    <tr>\n",
       "      <th>1</th>\n",
       "      <td>False.</td>\n",
       "      <td>False</td>\n",
       "      <td>False</td>\n",
       "      <td>False</td>\n",
       "      <td>False</td>\n",
       "    </tr>\n",
       "    <tr>\n",
       "      <th>2</th>\n",
       "      <td>False.</td>\n",
       "      <td>False</td>\n",
       "      <td>False</td>\n",
       "      <td>False</td>\n",
       "      <td>False</td>\n",
       "    </tr>\n",
       "    <tr>\n",
       "      <th>3</th>\n",
       "      <td>False.</td>\n",
       "      <td>True</td>\n",
       "      <td>True</td>\n",
       "      <td>False</td>\n",
       "      <td>False</td>\n",
       "    </tr>\n",
       "    <tr>\n",
       "      <th>4</th>\n",
       "      <td>False.</td>\n",
       "      <td>True</td>\n",
       "      <td>False</td>\n",
       "      <td>False</td>\n",
       "      <td>False</td>\n",
       "    </tr>\n",
       "  </tbody>\n",
       "</table>\n",
       "</div>"
      ],
      "text/plain": [
       "  churned  LR_predicted_churn  RF_predicted_churn  KNN_predicted_churn  \\\n",
       "0  False.               False               False                False   \n",
       "1  False.               False               False                False   \n",
       "2  False.               False               False                False   \n",
       "3  False.                True                True                False   \n",
       "4  False.                True               False                False   \n",
       "\n",
       "   SVM_predicted_churn  \n",
       "0                False  \n",
       "1                False  \n",
       "2                False  \n",
       "3                False  \n",
       "4                False  "
      ]
     },
     "execution_count": 56,
     "metadata": {},
     "output_type": "execute_result"
    }
   ],
   "source": [
    "churn_df['LR_predicted_churn']=LR_CV_predict==1\n",
    "churn_df['RF_predicted_churn']=RF_CV_predict==1\n",
    "churn_df['KNN_predicted_churn']=KNN_CV_predict==1\n",
    "churn_df['SVM_predicted_churn']=SVM_CV_predict==1\n",
    "churn_df[['churned','LR_predicted_churn','RF_predicted_churn','KNN_predicted_churn','SVM_predicted_churn']].head()"
   ]
  },
  {
   "cell_type": "markdown",
   "metadata": {},
   "source": [
    "## 3.3 Hyperparameter selection with Grid Search"
   ]
  },
  {
   "cell_type": "markdown",
   "metadata": {},
   "source": [
    "### 3.3.1 Logistic Regression"
   ]
  },
  {
   "cell_type": "code",
   "execution_count": 57,
   "metadata": {},
   "outputs": [
    {
     "name": "stdout",
     "output_type": "stream",
     "text": [
      "Fitting 5 folds for each of 6 candidates, totalling 30 fits\n"
     ]
    },
    {
     "name": "stderr",
     "output_type": "stream",
     "text": [
      "[Parallel(n_jobs=1)]: Done  30 out of  30 | elapsed:    2.1s finished\n"
     ]
    },
    {
     "data": {
      "text/plain": [
       "GridSearchCV(cv=5, error_score='raise',\n",
       "       estimator=LogisticRegression(C=1.0, class_weight=None, dual=False, fit_intercept=True,\n",
       "          intercept_scaling=1, max_iter=100, multi_class='ovr', n_jobs=1,\n",
       "          penalty='l2', random_state=None, solver='liblinear', tol=0.0001,\n",
       "          verbose=0, warm_start=False),\n",
       "       fit_params={}, iid=True, n_jobs=1,\n",
       "       param_grid={'penalty': ('l1', 'l2'), 'C': (1, 5, 10)},\n",
       "       pre_dispatch='2*n_jobs', refit=False, return_train_score=True,\n",
       "       scoring=None, verbose=1)"
      ]
     },
     "execution_count": 57,
     "metadata": {},
     "output_type": "execute_result"
    }
   ],
   "source": [
    "from sklearn.model_selection import GridSearchCV\n",
    "\n",
    "parameters={'penalty':('l1','l2'),'C':(1,5,10)}\n",
    "Grid_LR=GridSearchCV(LogisticRegression(),parameters,cv=5,verbose=1,refit=False)\n",
    "Grid_LR.fit(x,y)"
   ]
  },
  {
   "cell_type": "code",
   "execution_count": 58,
   "metadata": {},
   "outputs": [
    {
     "data": {
      "text/plain": [
       "{'C': 1, 'penalty': 'l1'}"
      ]
     },
     "execution_count": 58,
     "metadata": {},
     "output_type": "execute_result"
    }
   ],
   "source": [
    "Grid_LR.best_params_"
   ]
  },
  {
   "cell_type": "code",
   "execution_count": 59,
   "metadata": {
    "collapsed": true
   },
   "outputs": [],
   "source": [
    "def print_gs_metrics(gs):\n",
    "    print 'Best score: %0.3f' % gs.best_score_ # keep 3 decimal \n",
    "    print 'Best parameters set :'\n",
    "    best_parameters=gs.best_params_\n",
    "    for param_name in sorted(best_parameters.keys()):\n",
    "        print ('\\t%s: %r'% (param_name,best_parameters[param_name]))"
   ]
  },
  {
   "cell_type": "code",
   "execution_count": 60,
   "metadata": {},
   "outputs": [
    {
     "name": "stdout",
     "output_type": "stream",
     "text": [
      "Best score: 0.865\n",
      "Best parameters set :\n",
      "\tC: 1\n",
      "\tpenalty: 'l1'\n"
     ]
    }
   ],
   "source": [
    "print_gs_metrics(Grid_LR)"
   ]
  },
  {
   "cell_type": "markdown",
   "metadata": {},
   "source": [
    "### 3.3.2 KNN"
   ]
  },
  {
   "cell_type": "code",
   "execution_count": 61,
   "metadata": {},
   "outputs": [
    {
     "name": "stdout",
     "output_type": "stream",
     "text": [
      "Fitting 5 folds for each of 4 candidates, totalling 20 fits\n"
     ]
    },
    {
     "name": "stderr",
     "output_type": "stream",
     "text": [
      "[Parallel(n_jobs=1)]: Done  20 out of  20 | elapsed:   14.2s finished\n"
     ]
    },
    {
     "data": {
      "text/plain": [
       "GridSearchCV(cv=5, error_score='raise',\n",
       "       estimator=KNeighborsClassifier(algorithm='auto', leaf_size=30, metric='minkowski',\n",
       "           metric_params=None, n_jobs=1, n_neighbors=5, p=2,\n",
       "           weights='uniform'),\n",
       "       fit_params={}, iid=True, n_jobs=1,\n",
       "       param_grid={'n_neighbors': (3, 5, 7, 9)}, pre_dispatch='2*n_jobs',\n",
       "       refit=False, return_train_score=True, scoring=None, verbose=1)"
      ]
     },
     "execution_count": 61,
     "metadata": {},
     "output_type": "execute_result"
    }
   ],
   "source": [
    "parameters={'n_neighbors':(3,5,7,9)}\n",
    "Grid_KNN=GridSearchCV(KNeighborsClassifier(),parameters,cv=5,verbose=1,refit=False)\n",
    "Grid_KNN.fit(x,y)"
   ]
  },
  {
   "cell_type": "code",
   "execution_count": 62,
   "metadata": {},
   "outputs": [
    {
     "name": "stdout",
     "output_type": "stream",
     "text": [
      "Best score: 0.900\n",
      "Best parameters set :\n",
      "\tn_neighbors: 5\n"
     ]
    }
   ],
   "source": [
    "print_gs_metrics(Grid_KNN)"
   ]
  },
  {
   "cell_type": "markdown",
   "metadata": {},
   "source": [
    "## 3.4 Calculate Confusion Matrix for Classifier (precision, recall, accuracy)"
   ]
  },
  {
   "cell_type": "code",
   "execution_count": 63,
   "metadata": {
    "collapsed": true
   },
   "outputs": [],
   "source": [
    "from sklearn.metrics import confusion_matrix\n",
    "from sklearn.metrics import precision_score\n",
    "from sklearn.metrics import recall_score\n",
    "\n",
    "class_names=np.unique(y) ## an np array, need to convert to list\n",
    "confusion_matrices=[\n",
    "    ('Ramdom Forest',confusion_matrix(y,RF_CV_predict)),\n",
    "    ('Logistic Regression',confusion_matrix(y,LR_CV_predict)),\n",
    "    ('KNN',confusion_matrix(y,KNN_CV_predict)),\n",
    "    ('SVM',confusion_matrix(y,SVM_CV_predict))\n",
    "]\n",
    "\n",
    "def clf_evaluation(clf,cm): ## confusion_matrix result from sklearn\n",
    "    tp=cm[0][0]\n",
    "    fp=cm[0][1]\n",
    "    fn=cm[1][0]\n",
    "    tn=cm[1][1]\n",
    "    accuracy=(tp+tn)/(tp+fp+fn+tn+0.0)\n",
    "    precision=tp/(tp+fp+0.0)\n",
    "    recall=tp/(tp+fn+0.0)\n",
    "    print clf\n",
    "    print 'Accuracy is: '+str(accuracy)\n",
    "    print 'Precision is: '+str(precision)\n",
    "    print 'Recall is: '+str(recall)\n",
    "    \n",
    "\n",
    "def draw_confusion_matrices(confusion_matrices,class_names):\n",
    "    class_names=class_names.tolist()\n",
    "    for model in confusion_matrices:\n",
    "        clf,cm=model[0],model[1]\n",
    "        clf_evaluation(clf,cm)\n",
    "        fig=plt.figure()         \n",
    "        ax=fig.add_subplot(111)   ## \n",
    "        cax=ax.matshow(cm,interpolation='nearest',cmap=plt.get_cmap('Reds')) ##\n",
    "        plt.title('Confusion matrix for %s'% clf)\n",
    "        fig.colorbar(cax)\n",
    "        ax.set_xticklabels([''] + class_names)\n",
    "        ax.set_yticklabels([''] + class_names)\n",
    "        plt.xlabel('Predicted')\n",
    "        plt.ylabel('True')\n",
    "        plt.show()\n"
   ]
  },
  {
   "cell_type": "code",
   "execution_count": 64,
   "metadata": {},
   "outputs": [
    {
     "name": "stdout",
     "output_type": "stream",
     "text": [
      "Ramdom Forest\n",
      "Accuracy is: 0.9502\n",
      "Precision is: 0.990915443746\n",
      "Recall is: 0.952956989247\n"
     ]
    },
    {
     "data": {
      "image/png": "[encoded data removed]",
      "text/plain": [
       "<matplotlib.figure.Figure at 0x113e5e690>"
      ]
     },
     "metadata": {},
     "output_type": "display_data"
    },
    {
     "name": "stdout",
     "output_type": "stream",
     "text": [
      "Logistic Regression\n",
      "Accuracy is: 0.8656\n",
      "Precision is: 0.975308641975\n",
      "Recall is: 0.88091731538\n"
     ]
    },
    {
     "data": {
      "image/png": "[encoded data removed]",
      "text/plain": [
       "<matplotlib.figure.Figure at 0x116da0b90>"
      ]
     },
     "metadata": {},
     "output_type": "display_data"
    },
    {
     "name": "stdout",
     "output_type": "stream",
     "text": [
      "KNN\n",
      "Accuracy is: 0.8998\n",
      "Precision is: 0.985324947589\n",
      "Recall is: 0.90616966581\n"
     ]
    },
    {
     "data": {
      "image/png": "[encoded data removed]",
      "text/plain": [
       "<matplotlib.figure.Figure at 0x113dabe10>"
      ]
     },
     "metadata": {},
     "output_type": "display_data"
    },
    {
     "name": "stdout",
     "output_type": "stream",
     "text": [
      "SVM\n",
      "Accuracy is: 0.8654\n",
      "Precision is: 0.98392732355\n",
      "Recall is: 0.874896437448\n"
     ]
    },
    {
     "data": {
      "image/png": "[encoded data removed]",
      "text/plain": [
       "<matplotlib.figure.Figure at 0x11325b0d0>"
      ]
     },
     "metadata": {},
     "output_type": "display_data"
    }
   ],
   "source": [
    "%matplotlib inline\n",
    "draw_confusion_matrices(confusion_matrices,class_names)"
   ]
  },
  {
   "cell_type": "markdown",
   "metadata": {},
   "source": [
    "# Part 4 Feature Selection"
   ]
  },
  {
   "cell_type": "markdown",
   "metadata": {},
   "source": [
    "## 4.1 LR model "
   ]
  },
  {
   "cell_type": "markdown",
   "metadata": {},
   "source": [
    "### 4.1.1 Compare feature coefficients (L1/L2)"
   ]
  },
  {
   "cell_type": "code",
   "execution_count": 65,
   "metadata": {},
   "outputs": [
    {
     "name": "stdout",
     "output_type": "stream",
     "text": [
      "LR l1 coefficients\n",
      "voice_mail_plan: -0.8657\n",
      "number_customer_service_calls: 0.673\n",
      "intl_plan: 0.613\n",
      "total_day_charge: 0.4724\n",
      "number_vmail_messages: 0.396\n",
      "total_eve_charge: 0.2912\n",
      "total_day_minutes: 0.2621\n",
      "total_intl_calls: -0.1743\n",
      "total_intl_charge: 0.171\n",
      "total_night_minutes: 0.1356\n",
      "total_intl_minutes: 0.0723\n",
      "total_eve_minutes: 0.0666\n",
      "total_night_charge: 0.066\n",
      "account_length: 0.0534\n",
      "total_day_calls: 0.0495\n",
      "total_night_calls: -0.0288\n",
      "total_eve_calls: -0.0284\n"
     ]
    }
   ],
   "source": [
    "LRmodel_l1=LogisticRegression(penalty='l1')\n",
    "LRmodel_l1.fit(x,y)  ## no need to split train and test\n",
    "LRmodel_l1.coef_[0]\n",
    "print 'LR l1 coefficients'\n",
    "##order by the absolute value of coefficients\n",
    "for k,v in sorted(zip(map(lambda x: round(x,4),LRmodel_l1.coef_[0]),churn_dropped.columns),key=lambda(k,v):(-abs(k),v)):\n",
    "    print v+': '+str(k)"
   ]
  },
  {
   "cell_type": "code",
   "execution_count": 66,
   "metadata": {},
   "outputs": [
    {
     "name": "stdout",
     "output_type": "stream",
     "text": [
      "LR l2 coefficients\n",
      "voice_mail_plan: -0.8929\n",
      "number_customer_service_calls: 0.6731\n",
      "intl_plan: 0.6132\n",
      "number_vmail_messages: 0.4234\n",
      "total_day_minutes: 0.3687\n",
      "total_day_charge: 0.3664\n",
      "total_eve_charge: 0.18\n",
      "total_eve_minutes: 0.1794\n",
      "total_intl_calls: -0.1761\n",
      "total_intl_charge: 0.1235\n",
      "total_intl_minutes: 0.1217\n",
      "total_night_minutes: 0.1028\n",
      "total_night_charge: 0.1008\n",
      "account_length: 0.0552\n",
      "total_day_calls: 0.0513\n",
      "total_night_calls: -0.0307\n",
      "total_eve_calls: -0.0304\n"
     ]
    }
   ],
   "source": [
    "LRmodel_l2=LogisticRegression(penalty='l2')\n",
    "LRmodel_l2.fit(x,y)  ## no need to split train and test\n",
    "LRmodel_l2.coef_[0]\n",
    "print 'LR l2 coefficients'\n",
    "##order by the absolute value of coefficients\n",
    "for k,v in sorted(zip(map(lambda x: round(x,4),LRmodel_l2.coef_[0]),churn_dropped.columns),key=lambda(k,v):(-abs(k),v)):\n",
    "    print v+': '+str(k)"
   ]
  },
  {
   "cell_type": "markdown",
   "metadata": {},
   "source": [
    "### 4.1.2 RFE Recursive Feature Elimination (L1/L2) (feature importance priority)"
   ]
  },
  {
   "cell_type": "code",
   "execution_count": 67,
   "metadata": {},
   "outputs": [
    {
     "name": "stdout",
     "output_type": "stream",
     "text": [
      "Logistic Regression (L1) RFE Result\n",
      "total_day_charge: 1.0\n",
      "number_customer_service_calls: 2.0\n",
      "intl_plan: 3.0\n",
      "voice_mail_plan: 4.0\n",
      "number_vmail_messages: 5.0\n",
      "total_eve_minutes: 6.0\n",
      "total_intl_charge: 7.0\n",
      "total_night_minutes: 8.0\n",
      "total_intl_calls: 9.0\n",
      "total_eve_charge: 10.0\n",
      "total_day_minutes: 11.0\n",
      "account_length: 12.0\n",
      "total_intl_minutes: 13.0\n",
      "total_day_calls: 14.0\n",
      "total_night_charge: 15.0\n",
      "total_night_calls: 16.0\n",
      "total_eve_calls: 17.0\n"
     ]
    },
    {
     "data": {
      "image/png": "[encoded data removed]",
      "text/plain": [
       "<matplotlib.figure.Figure at 0x11bd9d650>"
      ]
     },
     "metadata": {},
     "output_type": "display_data"
    },
    {
     "name": "stdout",
     "output_type": "stream",
     "text": [
      "Optimal number of features:17\n"
     ]
    }
   ],
   "source": [
    "from sklearn.feature_selection import RFECV, RFE\n",
    "\n",
    "\n",
    "rfe_l1=RFE(LRmodel_l1, n_features_to_select=1) \n",
    "rfe_l1.fit(x,y)\n",
    "print 'Logistic Regression (L1) RFE Result'\n",
    "for k,v in sorted(zip(map(lambda x: round(x, 4), rfe_l1.ranking_), churn_dropped.columns)):\n",
    "    print v + \": \" + str(k)\n",
    "  \n",
    "\n",
    "\n",
    "rfecv_l1=RFECV(estimator=LRmodel_l1,step=1,scoring='accuracy')\n",
    "rfecv_l1.fit(x,y)\n",
    "\n",
    "plt.figure()\n",
    "plt.xlabel('Number of features selected')\n",
    "plt.ylabel('Cross validation score (nb of correct classifications)')\n",
    "plt.plot(range(1, len(rfecv_l1.grid_scores_) + 1), rfecv_l1.grid_scores_)\n",
    "plt.show()\n",
    "\n",
    "print ('Optimal number of features:'+str(rfecv_l1.n_features_))\n"
   ]
  },
  {
   "cell_type": "code",
   "execution_count": 68,
   "metadata": {},
   "outputs": [
    {
     "name": "stdout",
     "output_type": "stream",
     "text": [
      "Logistic Regression (L2) RFE Result\n",
      "total_day_minutes: 1.0\n",
      "number_customer_service_calls: 2.0\n",
      "intl_plan: 3.0\n",
      "voice_mail_plan: 4.0\n",
      "number_vmail_messages: 5.0\n",
      "total_day_charge: 6.0\n",
      "total_eve_charge: 7.0\n",
      "total_intl_charge: 8.0\n",
      "total_night_minutes: 9.0\n",
      "total_eve_minutes: 10.0\n",
      "total_intl_calls: 11.0\n",
      "total_intl_minutes: 12.0\n",
      "total_night_charge: 13.0\n",
      "account_length: 14.0\n",
      "total_day_calls: 15.0\n",
      "total_night_calls: 16.0\n",
      "total_eve_calls: 17.0\n"
     ]
    },
    {
     "data": {
      "image/png": "[encoded data removed]",
      "text/plain": [
       "<matplotlib.figure.Figure at 0x11322e450>"
      ]
     },
     "metadata": {},
     "output_type": "display_data"
    },
    {
     "name": "stdout",
     "output_type": "stream",
     "text": [
      "Optimal number of features:17\n"
     ]
    }
   ],
   "source": [
    "\n",
    "rfe_l2=RFE(LRmodel_l2, n_features_to_select=1) \n",
    "rfe_l2.fit(x,y)\n",
    "print 'Logistic Regression (L2) RFE Result'\n",
    "for k,v in sorted(zip(map(lambda x: round(x, 4), rfe_l2.ranking_), churn_dropped.columns)):\n",
    "    print v + \": \" + str(k)\n",
    "  \n",
    "\n",
    "\n",
    "rfecv_l2=RFECV(estimator=LRmodel_l2,step=1,scoring='accuracy')\n",
    "rfecv_l2.fit(x,y)\n",
    "\n",
    "plt.figure()\n",
    "plt.xlabel('Number of features selected')\n",
    "plt.ylabel('Cross validation score (nb of correct classifications)')\n",
    "plt.plot(range(1, len(rfecv_l2.grid_scores_) + 1), rfecv_l2.grid_scores_)\n",
    "plt.show()\n",
    "\n",
    "print ('Optimal number of features:'+str(rfecv_l2.n_features_))\n"
   ]
  },
  {
   "cell_type": "markdown",
   "metadata": {},
   "source": [
    "## 4.2 Random Forest Model-Feature Importance"
   ]
  },
  {
   "cell_type": "code",
   "execution_count": 69,
   "metadata": {},
   "outputs": [
    {
     "name": "stdout",
     "output_type": "stream",
     "text": [
      "Feature importance ranking by Random Forest Model:\n",
      "total_day_minutes: 0.1529\n",
      "total_day_charge: 0.1456\n",
      "number_customer_service_calls: 0.1183\n",
      "intl_plan: 0.0834\n",
      "total_eve_minutes: 0.0709\n",
      "total_eve_charge: 0.057\n",
      "total_intl_calls: 0.0544\n",
      "total_intl_charge: 0.0467\n",
      "total_night_charge: 0.0457\n",
      "total_night_minutes: 0.0399\n",
      "account_length: 0.034\n",
      "total_intl_minutes: 0.0306\n",
      "total_night_calls: 0.0256\n",
      "total_day_calls: 0.0254\n",
      "number_vmail_messages: 0.0247\n",
      "total_eve_calls: 0.0237\n",
      "voice_mail_plan: 0.0214\n"
     ]
    }
   ],
   "source": [
    "forest=RandomForestClassifier()\n",
    "forest.fit(x,y)\n",
    "\n",
    "importances=forest.feature_importances_\n",
    "\n",
    "print(\"Feature importance ranking by Random Forest Model:\")\n",
    "for k,v in sorted(zip(map(lambda x: round(x, 4), importances), churn_dropped.columns), reverse=True):\n",
    "    print v + \": \" + str(k)"
   ]
  },
  {
   "cell_type": "markdown",
   "metadata": {},
   "source": [
    "# Part 5 Probabilities as Prediction Results"
   ]
  },
  {
   "cell_type": "code",
   "execution_count": 70,
   "metadata": {
    "collapsed": true
   },
   "outputs": [],
   "source": [
    "# RF, LR,KNN have probability, SVM doesn't\n",
    "\n",
    "def prob_cv(x,y,clf,roc=False,**params):\n",
    "    kf=KFold(n_splits=5,shuffle=True)\n",
    "    y_prob=np.zeros((len(y),2)) # two classes 0/1\n",
    "    for train,test in kf.split(x,y):\n",
    "        x_train,x_test=x[train],x[test]\n",
    "        y_train=y[train]\n",
    "        clf_m=clf(**params)\n",
    "        clf_m.fit(x_train,y_train)\n",
    "        y_prob[test]=clf_m.predict_proba(x_test) # n sample, m classes, two classes in this case\n",
    "    return y_prob   "
   ]
  },
  {
   "cell_type": "code",
   "execution_count": 71,
   "metadata": {
    "collapsed": true
   },
   "outputs": [],
   "source": [
    "from collections import defaultdict\n",
    "from sklearn.ensemble import RandomForestClassifier\n",
    "true_prob=defaultdict(float)\n",
    "\n",
    "pred_y_prob=prob_cv(x,y,RandomForestClassifier)\n",
    "pred_y_churn=pred_y_prob[:,1] # 1st element of the inner list\n",
    "is_churn=(y==1)\n",
    "\n",
    "counts = pd.value_counts(pred_y_churn)\n",
    "for prob in counts.index:\n",
    "    true_prob[prob] = np.mean(is_churn[pred_y_churn == prob])\n",
    "true_prob = pd.Series(true_prob)"
   ]
  },
  {
   "cell_type": "code",
   "execution_count": 72,
   "metadata": {},
   "outputs": [
    {
     "data": {
      "text/html": [
       "<div>\n",
       "<style>\n",
       "    .dataframe thead tr:only-child th {\n",
       "        text-align: right;\n",
       "    }\n",
       "\n",
       "    .dataframe thead th {\n",
       "        text-align: left;\n",
       "    }\n",
       "\n",
       "    .dataframe tbody tr th {\n",
       "        vertical-align: top;\n",
       "    }\n",
       "</style>\n",
       "<table border=\"1\" class=\"dataframe\">\n",
       "  <thead>\n",
       "    <tr style=\"text-align: right;\">\n",
       "      <th></th>\n",
       "      <th>pred_prob</th>\n",
       "      <th>count</th>\n",
       "      <th>true_prob</th>\n",
       "    </tr>\n",
       "  </thead>\n",
       "  <tbody>\n",
       "    <tr>\n",
       "      <th>0</th>\n",
       "      <td>0.0</td>\n",
       "      <td>2740</td>\n",
       "      <td>0.026277</td>\n",
       "    </tr>\n",
       "    <tr>\n",
       "      <th>1</th>\n",
       "      <td>0.1</td>\n",
       "      <td>1068</td>\n",
       "      <td>0.022472</td>\n",
       "    </tr>\n",
       "    <tr>\n",
       "      <th>2</th>\n",
       "      <td>0.2</td>\n",
       "      <td>366</td>\n",
       "      <td>0.057377</td>\n",
       "    </tr>\n",
       "    <tr>\n",
       "      <th>3</th>\n",
       "      <td>0.3</td>\n",
       "      <td>132</td>\n",
       "      <td>0.128788</td>\n",
       "    </tr>\n",
       "    <tr>\n",
       "      <th>4</th>\n",
       "      <td>0.4</td>\n",
       "      <td>81</td>\n",
       "      <td>0.333333</td>\n",
       "    </tr>\n",
       "    <tr>\n",
       "      <th>5</th>\n",
       "      <td>0.5</td>\n",
       "      <td>69</td>\n",
       "      <td>0.579710</td>\n",
       "    </tr>\n",
       "    <tr>\n",
       "      <th>6</th>\n",
       "      <td>0.6</td>\n",
       "      <td>94</td>\n",
       "      <td>0.744681</td>\n",
       "    </tr>\n",
       "    <tr>\n",
       "      <th>7</th>\n",
       "      <td>0.7</td>\n",
       "      <td>84</td>\n",
       "      <td>0.928571</td>\n",
       "    </tr>\n",
       "    <tr>\n",
       "      <th>8</th>\n",
       "      <td>0.8</td>\n",
       "      <td>106</td>\n",
       "      <td>0.943396</td>\n",
       "    </tr>\n",
       "    <tr>\n",
       "      <th>9</th>\n",
       "      <td>0.9</td>\n",
       "      <td>130</td>\n",
       "      <td>0.984615</td>\n",
       "    </tr>\n",
       "    <tr>\n",
       "      <th>10</th>\n",
       "      <td>1.0</td>\n",
       "      <td>130</td>\n",
       "      <td>1.000000</td>\n",
       "    </tr>\n",
       "  </tbody>\n",
       "</table>\n",
       "</div>"
      ],
      "text/plain": [
       "    pred_prob  count  true_prob\n",
       "0         0.0   2740   0.026277\n",
       "1         0.1   1068   0.022472\n",
       "2         0.2    366   0.057377\n",
       "3         0.3    132   0.128788\n",
       "4         0.4     81   0.333333\n",
       "5         0.5     69   0.579710\n",
       "6         0.6     94   0.744681\n",
       "7         0.7     84   0.928571\n",
       "8         0.8    106   0.943396\n",
       "9         0.9    130   0.984615\n",
       "10        1.0    130   1.000000"
      ]
     },
     "execution_count": 72,
     "metadata": {},
     "output_type": "execute_result"
    }
   ],
   "source": [
    "EvaResults = pd.concat([counts,true_prob], axis=1).reset_index()\n",
    "EvaResults.columns = ['pred_prob', 'count', 'true_prob']\n",
    "EvaResults"
   ]
  }
 ],
 "metadata": {
  "kernelspec": {
   "display_name": "Python 2",
   "language": "python",
   "name": "python2"
  },
  "language_info": {
   "codemirror_mode": {
    "name": "ipython",
    "version": 2
   },
   "file_extension": ".py",
   "mimetype": "text/x-python",
   "name": "python",
   "nbconvert_exporter": "python",
   "pygments_lexer": "ipython2",
   "version": "2.7.15"
  }
 },
 "nbformat": 4,
 "nbformat_minor": 2
}
