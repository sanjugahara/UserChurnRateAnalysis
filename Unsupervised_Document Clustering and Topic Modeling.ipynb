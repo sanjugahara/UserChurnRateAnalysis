{
 "cells": [
  {
   "cell_type": "markdown",
   "metadata": {},
   "source": [
    "# Document Clustering and Topic Modeling"
   ]
  },
  {
   "cell_type": "markdown",
   "metadata": {},
   "source": [
    "## Part 1: Load Data"
   ]
  },
  {
   "cell_type": "code",
   "execution_count": 73,
   "metadata": {
    "collapsed": true
   },
   "outputs": [],
   "source": [
    "import warnings\n",
    "warnings.filterwarnings('ignore')\n",
    "import numpy as np\n",
    "import pandas as pd\n",
    "import nltk\n",
    "import re  # python regular expression\n",
    "import os\n",
    "\n",
    "import matplotlib.pyplot as plt\n",
    "import lda\n",
    "from sklearn import decomposition\n",
    "from sklearn.feature_extraction.text import TfidfVectorizer\n"
   ]
  },
  {
   "cell_type": "code",
   "execution_count": 74,
   "metadata": {
    "collapsed": true
   },
   "outputs": [],
   "source": [
    "#import titles\n",
    "titles=open('LaiOfferData_downloads/data/title_list.txt').read().split('\\n') \n",
    "#open file, read into an array, split every new line to an individual element\n",
    "titles=titles[:100] # only first 100 titles\n",
    "\n",
    "#import wiki synopses and imdb synopses, combine to one synopses\n",
    "synopses_wiki=open('LaiOfferData_downloads/data/synopses_list_wiki.txt').read().split('\\n BREAKS HERE')\n",
    "synopses_wiki=synopses_wiki[:100]\n",
    "\n",
    "synopses_imdb=open('LaiOfferData_downloads/data/synopses_list_imdb.txt').read().split('\\n BREAKS HERE')\n",
    "synopses_imdb=synopses_imdb[:100]\n",
    "\n",
    "synopses=[]\n",
    "for i in range(len(titles)):\n",
    "    synopses.append((synopses_wiki[i]+synopses_imdb[i]))"
   ]
  },
  {
   "cell_type": "markdown",
   "metadata": {},
   "source": [
    "## Part 2: Tokenizing and Stemming"
   ]
  },
  {
   "cell_type": "code",
   "execution_count": 75,
   "metadata": {
    "collapsed": true
   },
   "outputs": [],
   "source": [
    "# Stop Words: 'a', 'the'... meaningless words.\n",
    "## need to remove stopwords with NLTK function\n",
    "# Stemming: process of breaking a word down into its root\n",
    "## need to use stemmer function frim NLTK\n",
    "\n",
    "# NLTK English stopwords\n",
    "stopwords=nltk.corpus.stopwords.words('english')\n",
    "\n",
    "#NLTK stemmer\n",
    "from nltk.stem.snowball import SnowballStemmer\n",
    "stemmer = SnowballStemmer('english')"
   ]
  },
  {
   "cell_type": "code",
   "execution_count": 76,
   "metadata": {
    "collapsed": true
   },
   "outputs": [],
   "source": [
    "#this function will be used in TFIDF for text tokenize and stemming\n",
    "def tokenization_stemming(text):\n",
    "    tokens=[word.lower() for sent in nltk.sent_tokenize(text) for word in nltk.word_tokenize(sent) \n",
    "            if word not in stopwords]\n",
    "    # 1.sentence tokenize, 2. word tokenize, 3.lower case \n",
    "    filtered_tokens = []\n",
    "    for token in tokens:\n",
    "            if re.search('[a-zA-Z]', token): # only keep words having letters, remove numerical words\n",
    "                filtered_tokens.append(token)\n",
    "    stems=[stemmer.stem(t) for t in filtered_tokens]\n",
    "    return stems\n",
    "  \n",
    "# only use for comparison    \n",
    "def tokenization(text):\n",
    "    tokens=[word.lower() for sent in nltk.sent_tokenize(text) for word in nltk.word_tokenize(sent) \n",
    "            if word not in stopwords]\n",
    "    filtered_tokens=[]\n",
    "    for token in tokens:\n",
    "            if re.search('[a-zA-Z]', token):\n",
    "                filtered_tokens.append(token)\n",
    "    return filtered_tokens"
   ]
  },
  {
   "cell_type": "code",
   "execution_count": 77,
   "metadata": {},
   "outputs": [
    {
     "data": {
      "text/plain": [
       "[u'look', u'father', \"'s\", u'arm']"
      ]
     },
     "execution_count": 77,
     "metadata": {},
     "output_type": "execute_result"
    }
   ],
   "source": [
    "tokenization_stemming(\"she looked at her father's arm.\")"
   ]
  },
  {
   "cell_type": "code",
   "execution_count": 78,
   "metadata": {},
   "outputs": [
    {
     "data": {
      "text/plain": [
       "['looked', 'father', \"'s\", 'arm']"
      ]
     },
     "execution_count": 78,
     "metadata": {},
     "output_type": "execute_result"
    }
   ],
   "source": [
    "tokenization(\"she looked at her father's arm.\")"
   ]
  },
  {
   "cell_type": "code",
   "execution_count": 79,
   "metadata": {
    "collapsed": true
   },
   "outputs": [],
   "source": [
    "# Comparison tokenization to stemming \n",
    "# Tokenize and stem the synopses\n",
    "stemmed=[]\n",
    "tokenized=[]\n",
    "for i in synopses:\n",
    "    stemmed.extend(tokenization_stemming(i))\n",
    "    tokenized.extend(tokenization(i))"
   ]
  },
  {
   "cell_type": "code",
   "execution_count": 80,
   "metadata": {},
   "outputs": [
    {
     "data": {
      "text/plain": [
       "[(u'woodi', 'woody'),\n",
       " (u'yellow', 'yellow'),\n",
       " (u'four', 'four'),\n",
       " (u'two-for-the-price-of-on', 'two-for-the-price-of-one'),\n",
       " (u'enriqu', 'enrique')]"
      ]
     },
     "execution_count": 80,
     "metadata": {},
     "output_type": "execute_result"
    }
   ],
   "source": [
    "vocab_frame_dict={stemmed[x]:tokenized[x] for x in xrange(len(stemmed))}\n",
    "items=vocab_frame_dict.items()\n",
    "items[:5]"
   ]
  },
  {
   "cell_type": "markdown",
   "metadata": {},
   "source": [
    "## Part 3: TF-IDF"
   ]
  },
  {
   "cell_type": "code",
   "execution_count": 81,
   "metadata": {
    "collapsed": true
   },
   "outputs": [],
   "source": [
    "# TFIDF vectorizer parameters\n",
    "tfidf=TfidfVectorizer(max_df=0.8,max_features=200000,min_df=0.2,stop_words='english', \n",
    "                      use_idf=True, tokenizer=tokenization_stemming, ngram_range=(1,1))\n",
    "\n",
    "tfidf_matrix=tfidf.fit_transform(synopses)"
   ]
  },
  {
   "cell_type": "code",
   "execution_count": 82,
   "metadata": {},
   "outputs": [
    {
     "name": "stdout",
     "output_type": "stream",
     "text": [
      "In total, there are 100 synopses and 538 terms.\n"
     ]
    }
   ],
   "source": [
    "print 'In total, there are '+str(tfidf_matrix.shape[0])+' synopses and '+str(tfidf_matrix.shape[1]) +' terms.'"
   ]
  },
  {
   "cell_type": "code",
   "execution_count": 83,
   "metadata": {},
   "outputs": [
    {
     "data": {
      "text/plain": [
       "{'analyzer': u'word',\n",
       " 'binary': False,\n",
       " 'decode_error': u'strict',\n",
       " 'dtype': numpy.int64,\n",
       " 'encoding': u'utf-8',\n",
       " 'input': u'content',\n",
       " 'lowercase': True,\n",
       " 'max_df': 0.8,\n",
       " 'max_features': 200000,\n",
       " 'min_df': 0.2,\n",
       " 'ngram_range': (1, 1),\n",
       " 'norm': u'l2',\n",
       " 'preprocessor': None,\n",
       " 'smooth_idf': True,\n",
       " 'stop_words': 'english',\n",
       " 'strip_accents': None,\n",
       " 'sublinear_tf': False,\n",
       " 'token_pattern': u'(?u)\\\\b\\\\w\\\\w+\\\\b',\n",
       " 'tokenizer': <function __main__.tokenization_stemming>,\n",
       " 'use_idf': True,\n",
       " 'vocabulary': None}"
      ]
     },
     "execution_count": 83,
     "metadata": {},
     "output_type": "execute_result"
    }
   ],
   "source": [
    "tfidf.get_params()"
   ]
  },
  {
   "cell_type": "code",
   "execution_count": 84,
   "metadata": {
    "collapsed": true
   },
   "outputs": [],
   "source": [
    "tf_selected_words=tfidf.get_feature_names()"
   ]
  },
  {
   "cell_type": "code",
   "execution_count": 85,
   "metadata": {},
   "outputs": [
    {
     "data": {
      "text/plain": [
       "538"
      ]
     },
     "execution_count": 85,
     "metadata": {},
     "output_type": "execute_result"
    }
   ],
   "source": [
    "len(tf_selected_words)"
   ]
  },
  {
   "cell_type": "code",
   "execution_count": 86,
   "metadata": {},
   "outputs": [
    {
     "name": "stdout",
     "output_type": "stream",
     "text": [
      "  (0, 134)\t0.0473267628223\n",
      "  (0, 133)\t0.100142256222\n",
      "  (0, 231)\t0.0406338952993\n",
      "  (0, 405)\t0.114171476029\n",
      "  (0, 327)\t0.0754659397505\n",
      "  (0, 536)\t0.0590074324338\n",
      "  (0, 124)\t0.0652408434449\n",
      "  (0, 192)\t0.552178266051\n",
      "  (0, 455)\t0.239578887857\n",
      "  (0, 262)\t0.0456921978631\n",
      "  (0, 234)\t0.0455698592385\n",
      "  (0, 426)\t0.0464525128203\n",
      "  (0, 319)\t0.0442555743254\n",
      "  (0, 230)\t0.113001303979\n",
      "  (0, 317)\t0.0342149644576\n",
      "  (0, 57)\t0.0871506198292\n",
      "  (0, 434)\t0.0475587482303\n",
      "  (0, 439)\t0.0245750372251\n",
      "  (0, 39)\t0.0709901442334\n",
      "  (0, 167)\t0.030461465242\n",
      "  (0, 373)\t0.114171476029\n",
      "  (0, 429)\t0.0388525627111\n",
      "  (0, 390)\t0.0766711683362\n",
      "  (0, 449)\t0.0456921978631\n",
      "  (0, 44)\t0.074478403477\n",
      "  :\t:\n",
      "  (99, 366)\t0.0874261524564\n",
      "  (99, 24)\t0.0640326842603\n",
      "  (99, 456)\t0.132333990659\n",
      "  (99, 349)\t0.419498322794\n",
      "  (99, 280)\t0.061999245244\n",
      "  (99, 245)\t0.174944310535\n",
      "  (99, 274)\t0.0594293403113\n",
      "  (99, 412)\t0.153755537107\n",
      "  (99, 452)\t0.0938609693566\n",
      "  (99, 465)\t0.0982409961517\n",
      "  (99, 329)\t0.052529295972\n",
      "  (99, 202)\t0.0552711861938\n",
      "  (99, 471)\t0.2134121073\n",
      "  (99, 487)\t0.104874580699\n",
      "  (99, 364)\t0.0898858572802\n",
      "  (99, 178)\t0.0669026221145\n",
      "  (99, 322)\t0.108618951638\n",
      "  (99, 223)\t0.0938609693566\n",
      "  (99, 189)\t0.0938609693566\n",
      "  (99, 264)\t0.08624708914\n",
      "  (99, 445)\t0.108618951638\n",
      "  (99, 343)\t0.108618951638\n",
      "  (99, 129)\t0.199612018621\n",
      "  (99, 213)\t0.104874580699\n",
      "  (99, 518)\t0.266765134125\n"
     ]
    }
   ],
   "source": [
    "print tfidf_matrix"
   ]
  },
  {
   "cell_type": "markdown",
   "metadata": {},
   "source": [
    "## Part 4: K-means clustering"
   ]
  },
  {
   "cell_type": "code",
   "execution_count": 87,
   "metadata": {
    "collapsed": true
   },
   "outputs": [],
   "source": [
    "from sklearn.cluster import KMeans\n",
    "\n",
    "num_clusters=5\n",
    "km=KMeans(n_clusters=num_clusters)\n",
    "km.fit(tfidf_matrix)\n",
    "clusters=km.labels_.tolist()"
   ]
  },
  {
   "cell_type": "code",
   "execution_count": 88,
   "metadata": {},
   "outputs": [
    {
     "data": {
      "text/plain": [
       "[2, 1, 2, 1, 2, 1, 0, 0, 2, 2]"
      ]
     },
     "execution_count": 88,
     "metadata": {},
     "output_type": "execute_result"
    }
   ],
   "source": [
    "clusters[:10] "
   ]
  },
  {
   "cell_type": "markdown",
   "metadata": {},
   "source": [
    "### 4.1 Analyze KMeans results"
   ]
  },
  {
   "cell_type": "code",
   "execution_count": 89,
   "metadata": {
    "collapsed": true
   },
   "outputs": [],
   "source": [
    "# create DataFrame films \n",
    "films={'title':titles, 'rank': range(100),'synopses':synopses,'cluster':clusters }\n",
    "frame=pd.DataFrame(films,index=[clusters],columns=['rank','title','cluster'])"
   ]
  },
  {
   "cell_type": "code",
   "execution_count": 90,
   "metadata": {},
   "outputs": [
    {
     "data": {
      "text/html": [
       "<div>\n",
       "<style>\n",
       "    .dataframe thead tr:only-child th {\n",
       "        text-align: right;\n",
       "    }\n",
       "\n",
       "    .dataframe thead th {\n",
       "        text-align: left;\n",
       "    }\n",
       "\n",
       "    .dataframe tbody tr th {\n",
       "        vertical-align: top;\n",
       "    }\n",
       "</style>\n",
       "<table border=\"1\" class=\"dataframe\">\n",
       "  <thead>\n",
       "    <tr style=\"text-align: right;\">\n",
       "      <th></th>\n",
       "      <th>rank</th>\n",
       "      <th>title</th>\n",
       "      <th>cluster</th>\n",
       "    </tr>\n",
       "  </thead>\n",
       "  <tbody>\n",
       "    <tr>\n",
       "      <th>2</th>\n",
       "      <td>0</td>\n",
       "      <td>The Godfather</td>\n",
       "      <td>2</td>\n",
       "    </tr>\n",
       "    <tr>\n",
       "      <th>1</th>\n",
       "      <td>1</td>\n",
       "      <td>The Shawshank Redemption</td>\n",
       "      <td>1</td>\n",
       "    </tr>\n",
       "    <tr>\n",
       "      <th>2</th>\n",
       "      <td>2</td>\n",
       "      <td>Schindler's List</td>\n",
       "      <td>2</td>\n",
       "    </tr>\n",
       "    <tr>\n",
       "      <th>1</th>\n",
       "      <td>3</td>\n",
       "      <td>Raging Bull</td>\n",
       "      <td>1</td>\n",
       "    </tr>\n",
       "    <tr>\n",
       "      <th>2</th>\n",
       "      <td>4</td>\n",
       "      <td>Casablanca</td>\n",
       "      <td>2</td>\n",
       "    </tr>\n",
       "  </tbody>\n",
       "</table>\n",
       "</div>"
      ],
      "text/plain": [
       "   rank                     title  cluster\n",
       "2     0             The Godfather        2\n",
       "1     1  The Shawshank Redemption        1\n",
       "2     2          Schindler's List        2\n",
       "1     3               Raging Bull        1\n",
       "2     4                Casablanca        2"
      ]
     },
     "execution_count": 90,
     "metadata": {},
     "output_type": "execute_result"
    }
   ],
   "source": [
    "frame.head()"
   ]
  },
  {
   "cell_type": "code",
   "execution_count": 91,
   "metadata": {},
   "outputs": [
    {
     "name": "stdout",
     "output_type": "stream",
     "text": [
      "Number of films included in each clusters: \n"
     ]
    },
    {
     "data": {
      "text/html": [
       "<div>\n",
       "<style>\n",
       "    .dataframe thead tr:only-child th {\n",
       "        text-align: right;\n",
       "    }\n",
       "\n",
       "    .dataframe thead th {\n",
       "        text-align: left;\n",
       "    }\n",
       "\n",
       "    .dataframe tbody tr th {\n",
       "        vertical-align: top;\n",
       "    }\n",
       "</style>\n",
       "<table border=\"1\" class=\"dataframe\">\n",
       "  <thead>\n",
       "    <tr style=\"text-align: right;\">\n",
       "      <th></th>\n",
       "      <th>cluster</th>\n",
       "    </tr>\n",
       "  </thead>\n",
       "  <tbody>\n",
       "    <tr>\n",
       "      <th>1</th>\n",
       "      <td>32</td>\n",
       "    </tr>\n",
       "    <tr>\n",
       "      <th>0</th>\n",
       "      <td>23</td>\n",
       "    </tr>\n",
       "    <tr>\n",
       "      <th>4</th>\n",
       "      <td>16</td>\n",
       "    </tr>\n",
       "    <tr>\n",
       "      <th>2</th>\n",
       "      <td>16</td>\n",
       "    </tr>\n",
       "    <tr>\n",
       "      <th>3</th>\n",
       "      <td>13</td>\n",
       "    </tr>\n",
       "  </tbody>\n",
       "</table>\n",
       "</div>"
      ],
      "text/plain": [
       "   cluster\n",
       "1       32\n",
       "0       23\n",
       "4       16\n",
       "2       16\n",
       "3       13"
      ]
     },
     "execution_count": 91,
     "metadata": {},
     "output_type": "execute_result"
    }
   ],
   "source": [
    "print 'Number of films included in each clusters: '\n",
    "frame['cluster'].value_counts().to_frame()"
   ]
  },
  {
   "cell_type": "code",
   "execution_count": 92,
   "metadata": {},
   "outputs": [
    {
     "name": "stdout",
     "output_type": "stream",
     "text": [
      "Average rank (1 to 100) per cluster: \n"
     ]
    },
    {
     "data": {
      "text/html": [
       "<div>\n",
       "<style>\n",
       "    .dataframe thead tr:only-child th {\n",
       "        text-align: right;\n",
       "    }\n",
       "\n",
       "    .dataframe thead th {\n",
       "        text-align: left;\n",
       "    }\n",
       "\n",
       "    .dataframe tbody tr th {\n",
       "        vertical-align: top;\n",
       "    }\n",
       "</style>\n",
       "<table border=\"1\" class=\"dataframe\">\n",
       "  <thead>\n",
       "    <tr style=\"text-align: right;\">\n",
       "      <th></th>\n",
       "      <th>rank</th>\n",
       "    </tr>\n",
       "    <tr>\n",
       "      <th>cluster</th>\n",
       "      <th></th>\n",
       "    </tr>\n",
       "  </thead>\n",
       "  <tbody>\n",
       "    <tr>\n",
       "      <th>0</th>\n",
       "      <td>54.000000</td>\n",
       "    </tr>\n",
       "    <tr>\n",
       "      <th>1</th>\n",
       "      <td>54.875000</td>\n",
       "    </tr>\n",
       "    <tr>\n",
       "      <th>2</th>\n",
       "      <td>36.750000</td>\n",
       "    </tr>\n",
       "    <tr>\n",
       "      <th>3</th>\n",
       "      <td>41.692308</td>\n",
       "    </tr>\n",
       "    <tr>\n",
       "      <th>4</th>\n",
       "      <td>51.375000</td>\n",
       "    </tr>\n",
       "  </tbody>\n",
       "</table>\n",
       "</div>"
      ],
      "text/plain": [
       "              rank\n",
       "cluster           \n",
       "0        54.000000\n",
       "1        54.875000\n",
       "2        36.750000\n",
       "3        41.692308\n",
       "4        51.375000"
      ]
     },
     "execution_count": 92,
     "metadata": {},
     "output_type": "execute_result"
    }
   ],
   "source": [
    "total_rank=frame['rank'].groupby(frame['cluster'])\n",
    "print 'Average rank (1 to 100) per cluster: '\n",
    "total_rank.mean().to_frame()"
   ]
  },
  {
   "cell_type": "code",
   "execution_count": 93,
   "metadata": {
    "collapsed": true
   },
   "outputs": [],
   "source": [
    "#km.cluster_centers_ denotes the importances of each items in centroid.\n",
    "#need to sort it in decreasing_order and get the top k items (6)\n",
    "order_centroids=km.cluster_centers_.argsort()[:,::-1] # parent list(cluster 5) keep the same order, \n",
    "                                                      # child list(each stemmed word 538) reverse order"
   ]
  },
  {
   "cell_type": "code",
   "execution_count": 94,
   "metadata": {},
   "outputs": [
    {
     "data": {
      "text/plain": [
       "array([[213, 194, 298, ..., 258, 235, 165],\n",
       "       [ 83, 359, 320, ..., 452, 261, 477],\n",
       "       [192, 511, 241, ..., 441, 334, 320],\n",
       "       [452,  35, 212, ...,  78, 343, 319],\n",
       "       [271, 514, 436, ..., 233, 156, 250]])"
      ]
     },
     "execution_count": 94,
     "metadata": {},
     "output_type": "execute_result"
    }
   ],
   "source": [
    "#each num in child array means a selected word in tfidf model\n",
    "#order_centroids[0][1] --cluster 0, 2nd important word's (1) index in tfidf selected word\n",
    "order_centroids"
   ]
  },
  {
   "cell_type": "code",
   "execution_count": 95,
   "metadata": {},
   "outputs": [
    {
     "data": {
      "text/plain": [
       "'george'"
      ]
     },
     "execution_count": 95,
     "metadata": {},
     "output_type": "execute_result"
    }
   ],
   "source": [
    "# cluster 0, most important tokenized word \n",
    "vocab_frame_dict[tf_selected_words[order_centroids[0][0]]] "
   ]
  },
  {
   "cell_type": "code",
   "execution_count": 96,
   "metadata": {},
   "outputs": [
    {
     "name": "stdout",
     "output_type": "stream",
     "text": [
      "<Document clustering result by KMeans>\n",
      "Cluster 0 words: george ,  father ,  love ,  marries ,  relationship ,  marriages , \n",
      "Cluster 0 titles (23 movies): \n",
      "Gone with the Wind, Citizen Kane, Forrest Gump, The Sound of Music, It's a Wonderful Life, Amadeus, The Philadelphia Story, An American in Paris, The Best Years of Our Lives, Braveheart, City Lights, The King's Speech, It Happened One Night, A Place in the Sun, Rain Man, Annie Hall, Out of Africa, Good Will Hunting, Terms of Endearment, Tootsie, Network, The Graduate, Yankee Doodle Dandy\n",
      "\n",
      "Cluster 1 words: car ,  police ,  mr. ,  filmed ,  asks ,  say , \n",
      "Cluster 1 titles (32 movies): \n",
      "The Shawshank Redemption, Raging Bull, One Flew Over the Cuckoo's Nest, Psycho, Sunset Blvd., Vertigo, West Side Story, The Silence of the Lambs, Singin' in the Rain, Some Like It Hot, 12 Angry Men, Gandhi, Rocky, To Kill a Mockingbird, My Fair Lady, The Apartment, The Exorcist, The French Connection, Fargo, The Green Mile, Nashville, American Graffiti, Pulp Fiction, The African Queen, A Clockwork Orange, Taxi Driver, Wuthering Heights, Double Indemnity, Rebel Without a Cause, Rear Window, The Third Man, North by Northwest\n",
      "\n",
      "Cluster 2 words: family ,  war ,  home ,  camping ,  friend ,  sister , \n",
      "Cluster 2 titles (16 movies): \n",
      "The Godfather, Schindler's List, Casablanca, The Wizard of Oz, Titanic, The Godfather: Part II, E.T. the Extra-Terrestrial, A Streetcar Named Desire, Ben-Hur, Doctor Zhivago, The Pianist, Goodfellas, The Deer Hunter, Midnight Cowboy, Giant, The Grapes of Wrath\n",
      "\n",
      "Cluster 3 words: soldiers ,  army ,  general ,  commanded ,  killing ,  war , \n",
      "Cluster 3 titles (13 movies): \n",
      "Lawrence of Arabia, The Bridge on the River Kwai, Dr. Strangelove or: How I Learned to Stop Worrying and Love the Bomb, Apocalypse Now, The Lord of the Rings: The Return of the King, Gladiator, From Here to Eternity, Saving Private Ryan, Patton, Platoon, Dances with Wolves, All Quiet on the Western Front, Stagecoach\n",
      "\n",
      "Cluster 4 words: killing ,  water ,  ship ,  town ,  men ,  attempting , \n",
      "Cluster 4 titles (16 movies): \n",
      "On the Waterfront, Star Wars, 2001: A Space Odyssey, Chinatown, Unforgiven, Raiders of the Lost Ark, Jaws, The Good, the Bad and the Ugly, Butch Cassidy and the Sundance Kid, The Treasure of the Sierra Madre, High Noon, Mr. Smith Goes to Washington, Shane, Close Encounters of the Third Kind, Mutiny on the Bounty, The Maltese Falcon\n",
      "\n"
     ]
    }
   ],
   "source": [
    "print '<Document clustering result by KMeans>'\n",
    "\n",
    "Cluster_keywords={}\n",
    "for i in range(num_clusters):\n",
    "    print 'Cluster '+str(i)+' words:',\n",
    "    Cluster_keywords[i]=[]\n",
    "    for select_word_index in order_centroids[i,:6]:   # top 6 words\n",
    "        Cluster_keywords[i].append(vocab_frame_dict[tf_selected_words[select_word_index]])\n",
    "        print vocab_frame_dict[tf_selected_words[select_word_index]]+' , ',\n",
    "    print\n",
    "    cluster_movies=frame.ix[i]['title'].values.tolist()\n",
    "    print 'Cluster '+str(i)+' titles ('+str(len(cluster_movies)) +' movies): \\n'+', '.join(cluster_movies)\n",
    "    print\n",
    "    "
   ]
  },
  {
   "cell_type": "markdown",
   "metadata": {
    "collapsed": true
   },
   "source": [
    "### 4.2 Plot KMeans Resutls"
   ]
  },
  {
   "cell_type": "code",
   "execution_count": 97,
   "metadata": {
    "collapsed": true
   },
   "outputs": [],
   "source": [
    "pca=decomposition.PCA(n_components=2)\n",
    "tfidf_matrix_np=tfidf_matrix.toarray() # 100* 538 array\n",
    "pca.fit(tfidf_matrix_np)\n",
    "X=pca.transform(tfidf_matrix_np)"
   ]
  },
  {
   "cell_type": "code",
   "execution_count": 98,
   "metadata": {},
   "outputs": [],
   "source": [
    "xs,ys=X[:,0],X[:,1]"
   ]
  },
  {
   "cell_type": "code",
   "execution_count": 99,
   "metadata": {},
   "outputs": [],
   "source": [
    "#set up colors per clusters with a dict\n",
    "cluster_colors={0: '#1b9e77', 1: '#d95f02', 2: '#7570b3', 3: '#e7298a', 4: '#66a61e'}\n",
    "#set up cluster names with a dict\n",
    "cluster_names={i: ','.join(Cluster_keywords[i]) for i in xrange(num_clusters)}"
   ]
  },
  {
   "cell_type": "code",
   "execution_count": 101,
   "metadata": {},
   "outputs": [
    {
     "data": {
      "text/plain": [
       "[(0, 'george,father,love,marries,relationship,marriages'),\n",
       " (1, 'car,police,mr.,filmed,asks,say'),\n",
       " (2, 'family,war,home,camping,friend,sister'),\n",
       " (3, 'soldiers,army,general,commanded,killing,war'),\n",
       " (4, 'killing,water,ship,town,men,attempting')]"
      ]
     },
     "execution_count": 101,
     "metadata": {},
     "output_type": "execute_result"
    }
   ],
   "source": [
    "cluster_names.items()"
   ]
  },
  {
   "cell_type": "code",
   "execution_count": 102,
   "metadata": {
    "collapsed": true
   },
   "outputs": [],
   "source": [
    "%matplotlib inline\n",
    "\n",
    "#create data frame with PCA cluster results\n",
    "df=pd.DataFrame(dict(x=xs,y=ys,cluster=clusters,title=titles))\n",
    "groups=df.groupby(clusters)"
   ]
  },
  {
   "cell_type": "code",
   "execution_count": 103,
   "metadata": {},
   "outputs": [
    {
     "data": {
      "image/png": "[encoded data removed]",
      "text/plain": [
       "<matplotlib.figure.Figure at 0x11e81d550>"
      ]
     },
     "metadata": {},
     "output_type": "display_data"
    }
   ],
   "source": [
    "# set up plot\n",
    "fig, ax = plt.subplots(figsize=(16, 9))\n",
    "#set color for each group\n",
    "for name,group in groups:\n",
    "    ax.plot(group.x,group.y, marker='o',linestyle='', ms=12,\n",
    "           label=cluster_names[name],color=cluster_colors[name], mec='none')\n",
    "    \n",
    "ax.legend(numpoints=1,loc=4)\n",
    "plt.show()"
   ]
  },
  {
   "cell_type": "markdown",
   "metadata": {},
   "source": [
    "## Part 5: Topic Modeling -Latent Dirichlet Allocation  LDA"
   ]
  },
  {
   "cell_type": "code",
   "execution_count": 105,
   "metadata": {},
   "outputs": [],
   "source": [
    "#K-means is going to partition the N documents in K disjoint clusters \n",
    "#LDA assigns a document to a mixture of topics. Therefore each document is characterized by one or more topics \n",
    "#(e.g. Document D belongs for 60% to Topic A, 30% to topic B and 10% to topic E)\n",
    "#Hence, LDA can give more realistic results than k-means for topic assignment.\n",
    "\n",
    "#use synopses to build a 100*538 matrix\n",
    "terms_dict={tf_selected_words[x]: x for x in xrange(len(tf_selected_words))}\n",
    "\n",
    "feature_matrix_synopses_tf=[]\n",
    "for i in synopses:\n",
    "    current_doc_stats=[0]*len(tf_selected_words)\n",
    "    allwords_stemmed=tokenization_stemming(i)\n",
    "    for term in allwords_stemmed:\n",
    "        if term in tf_selected_words:\n",
    "            current_doc_stats[terms_dict[term]] +=1\n",
    "    current_doc_stats=np.asarray(current_doc_stats)\n",
    "    feature_matrix_synopses_tf.append(current_doc_stats)\n",
    "\n",
    "feature_matrix_synopses_tf=np.asarray(feature_matrix_synopses_tf) # 100*538 matrix"
   ]
  },
  {
   "cell_type": "code",
   "execution_count": 106,
   "metadata": {},
   "outputs": [
    {
     "data": {
      "text/plain": [
       "array([ 1,  0,  0,  7,  0,  1,  4,  3,  0,  0,  1,  1,  0,  4,  0,  0,  1,\n",
       "        1,  0,  1,  1,  2,  1,  0,  1,  4,  1,  0,  1,  0,  1,  1,  1,  2,\n",
       "        0,  0,  5,  0,  3,  9,  1,  0,  0,  4,  8,  1,  0,  0,  0,  1,  6,\n",
       "        0,  1,  0,  2,  2,  4,  6,  0,  3,  0,  1,  0,  0,  1,  0,  1,  0,\n",
       "        1,  0,  4,  0,  2,  2,  6,  1,  0, 16,  3,  1,  0,  5,  0,  9,  0,\n",
       "        3,  2,  0,  0,  0,  0,  1,  1,  0,  1,  1,  0,  0,  0,  0,  1,  0,\n",
       "        0,  0,  3,  6,  2,  0,  0,  1,  0,  0,  2,  1,  4,  5,  0,  1,  0,\n",
       "        1,  0,  2,  1,  0,  4,  3,  0,  1,  0,  0,  0,  0,  0,  7,  6,  3,\n",
       "        8,  7,  2,  0,  0,  0,  0,  0,  0,  0,  4,  0,  0,  0,  3,  1,  0,\n",
       "        0,  1,  0,  0,  2,  0,  0,  0,  4,  0,  1,  1,  1,  0,  2,  0,  0,\n",
       "        8,  0,  0,  2,  0,  0,  0,  1,  0,  0,  0,  0,  1,  0,  1,  0,  4,\n",
       "        1,  2,  0,  0,  3, 49,  0, 18,  2,  1,  0,  0,  0,  0,  3,  0,  0,\n",
       "        0,  0,  0,  0,  1,  0,  2,  0,  1,  0,  0,  0,  1,  0,  0,  0,  0,\n",
       "        1,  0,  0,  1,  8,  4,  0,  4,  0, 11,  4,  0,  0,  5,  0,  1,  0,\n",
       "        0,  4,  2,  9,  1,  8,  0,  3,  3,  1,  3,  0,  1,  2,  0,  3,  0,\n",
       "        0,  3,  2,  1,  2,  4,  0,  3,  0,  0,  6,  1,  1,  2,  1,  0, 24,\n",
       "        1,  0,  1,  3,  3,  0,  1,  0,  2,  2,  0,  0,  1,  5,  1,  1,  1,\n",
       "        0,  1,  1,  0,  0,  3,  1,  0,  0,  1,  1,  0,  0,  6,  3,  0,  0,\n",
       "        0, 24,  3, 11,  0,  0,  0,  0,  1,  1,  1,  3,  0,  3,  0, 13,  0,\n",
       "        3,  0,  0,  0,  9,  1,  0,  0,  0,  0,  0,  0,  0,  6,  4,  3,  3,\n",
       "        6,  2,  0,  0,  1,  0,  0,  2,  0,  2,  4,  2,  2,  0,  0,  0,  5,\n",
       "        4,  0,  7,  1,  0,  3,  3,  0,  1,  2,  0,  5,  0,  2,  6,  2,  7,\n",
       "        1,  1,  1,  1,  0,  1,  7,  0,  0,  0,  0,  0,  0,  2,  1,  0,  6,\n",
       "        0,  0,  0,  7,  2,  0,  0,  0,  0,  1,  2,  0,  0,  2,  7,  0,  1,\n",
       "        0,  1,  1,  0,  1,  0,  1,  1,  1,  0,  0,  1,  3,  0,  1,  0,  3,\n",
       "        1,  3,  1,  1,  3,  2,  2,  2,  8,  5,  0,  0,  1,  4,  2,  5,  0,\n",
       "        0,  0,  1,  0,  2,  0,  0,  3,  0,  4,  2,  0,  1, 18,  2,  0,  0,\n",
       "        1,  3,  1,  0,  0,  0,  2,  1,  1,  0,  3,  1,  0,  1,  0,  0,  0,\n",
       "        0,  0,  0,  1,  4,  2,  2,  0,  0,  0,  0,  0,  4,  0,  1,  2,  1,\n",
       "        0,  0,  3,  0,  0,  1,  1,  0,  1,  2,  0,  0,  1,  0,  2,  0,  0,\n",
       "        2,  5,  3,  5,  0,  5,  0,  0,  0,  2,  0,  0,  0,  1,  0,  1,  1,\n",
       "        0,  0,  0,  1,  0,  0,  0,  0,  9,  4,  4])"
      ]
     },
     "execution_count": 106,
     "metadata": {},
     "output_type": "execute_result"
    }
   ],
   "source": [
    "feature_matrix_synopses_tf[0]"
   ]
  },
  {
   "cell_type": "code",
   "execution_count": 107,
   "metadata": {
    "collapsed": true
   },
   "outputs": [],
   "source": [
    "model=lda.LDA(n_topics=5,n_iter=500,random_state=1)"
   ]
  },
  {
   "cell_type": "code",
   "execution_count": 108,
   "metadata": {},
   "outputs": [
    {
     "name": "stderr",
     "output_type": "stream",
     "text": [
      "INFO:lda:n_documents: 100\n",
      "INFO:lda:vocab_size: 538\n",
      "INFO:lda:n_words: 61218\n",
      "INFO:lda:n_topics: 5\n",
      "INFO:lda:n_iter: 500\n",
      "INFO:lda:<0> log likelihood: -484683\n",
      "INFO:lda:<10> log likelihood: -428330\n",
      "INFO:lda:<20> log likelihood: -412489\n",
      "INFO:lda:<30> log likelihood: -406790\n",
      "INFO:lda:<40> log likelihood: -403019\n",
      "INFO:lda:<50> log likelihood: -400070\n",
      "INFO:lda:<60> log likelihood: -398296\n",
      "INFO:lda:<70> log likelihood: -397266\n",
      "INFO:lda:<80> log likelihood: -395732\n",
      "INFO:lda:<90> log likelihood: -395476\n",
      "INFO:lda:<100> log likelihood: -394666\n",
      "INFO:lda:<110> log likelihood: -394617\n",
      "INFO:lda:<120> log likelihood: -393980\n",
      "INFO:lda:<130> log likelihood: -393121\n",
      "INFO:lda:<140> log likelihood: -392773\n",
      "INFO:lda:<150> log likelihood: -392559\n",
      "INFO:lda:<160> log likelihood: -392274\n",
      "INFO:lda:<170> log likelihood: -391875\n",
      "INFO:lda:<180> log likelihood: -392254\n",
      "INFO:lda:<190> log likelihood: -391966\n",
      "INFO:lda:<200> log likelihood: -391777\n",
      "INFO:lda:<210> log likelihood: -391467\n",
      "INFO:lda:<220> log likelihood: -391043\n",
      "INFO:lda:<230> log likelihood: -391624\n",
      "INFO:lda:<240> log likelihood: -391707\n",
      "INFO:lda:<250> log likelihood: -391696\n",
      "INFO:lda:<260> log likelihood: -391673\n",
      "INFO:lda:<270> log likelihood: -391540\n",
      "INFO:lda:<280> log likelihood: -391234\n",
      "INFO:lda:<290> log likelihood: -390801\n",
      "INFO:lda:<300> log likelihood: -391805\n",
      "INFO:lda:<310> log likelihood: -392021\n",
      "INFO:lda:<320> log likelihood: -391969\n",
      "INFO:lda:<330> log likelihood: -390905\n",
      "INFO:lda:<340> log likelihood: -391478\n",
      "INFO:lda:<350> log likelihood: -390938\n",
      "INFO:lda:<360> log likelihood: -390935\n",
      "INFO:lda:<370> log likelihood: -390741\n",
      "INFO:lda:<380> log likelihood: -391222\n",
      "INFO:lda:<390> log likelihood: -390952\n",
      "INFO:lda:<400> log likelihood: -390668\n",
      "INFO:lda:<410> log likelihood: -390701\n",
      "INFO:lda:<420> log likelihood: -390636\n",
      "INFO:lda:<430> log likelihood: -390205\n",
      "INFO:lda:<440> log likelihood: -390684\n",
      "INFO:lda:<450> log likelihood: -390519\n",
      "INFO:lda:<460> log likelihood: -390995\n",
      "INFO:lda:<470> log likelihood: -390638\n",
      "INFO:lda:<480> log likelihood: -390798\n",
      "INFO:lda:<490> log likelihood: -390844\n",
      "INFO:lda:<499> log likelihood: -390644\n"
     ]
    }
   ],
   "source": [
    "model.fit(feature_matrix_synopses_tf)\n",
    "topic_word=model.topic_word_ # model.topic_word_ saves the importance of tf_selected_words in LDA model, \n",
    "                             # the shape is (n_topics,num_of_selected_words) \n",
    "                             #(5*538)\n",
    "\n",
    "doc_topic=model.doc_topic_ # model.doc_topic_ saves the documenttopic results\n",
    "                           # the shape of (num_of_documents,n_topics)\n",
    "                           # (100,5)"
   ]
  },
  {
   "cell_type": "code",
   "execution_count": 109,
   "metadata": {
    "collapsed": true
   },
   "outputs": [],
   "source": [
    "topic_keywords_list=[]\n",
    "for i, topic_dist in enumerate(topic_word):\n",
    "    lda_topic_words=np.array(tf_selected_words)[np.argsort(topic_dist)][:-7:-1]\n",
    "    for j in xrange(len(lda_topic_words)):\n",
    "        lda_topic_words[j]=vocab_frame_dict[lda_topic_words[j]]\n",
    "    topic_keywords_list.append(lda_topic_words.tolist())"
   ]
  },
  {
   "cell_type": "code",
   "execution_count": 110,
   "metadata": {},
   "outputs": [
    {
     "name": "stdout",
     "output_type": "stream",
     "text": [
      "<Document clustering result in LDA>\n",
      "Cluster 0 words: george,war,soldiers,army,captain,commanded\n",
      "Cluster 0 titles (10) movies: \n",
      "Schindler's List, Lawrence of Arabia, It's a Wonderful Life, Dr. Strangelove or: How I Learned to Stop Worrying and Love the Bomb, Apocalypse Now, The Lord of the Rings: The Return of the King, Patton, Dances with Wolves, Stagecoach, Mutiny on the Bounty\n",
      "\n",
      "Cluster 1 words: car,away,police,meet,helping,apartment\n",
      "Cluster 1 titles (13) movies: \n",
      "Titanic, The Silence of the Lambs, The Apartment, The Pianist, The French Connection, It Happened One Night, Fargo, The Graduate, The Maltese Falcon, Double Indemnity, Rebel Without a Cause, Rear Window, North by Northwest\n",
      "\n",
      "Cluster 2 words: father,family,new,end,life,years\n",
      "Cluster 2 titles (28) movies: \n",
      "The Godfather, Casablanca, Citizen Kane, The Godfather: Part II, Sunset Blvd., Forrest Gump, The Sound of Music, Singin' in the Rain, Amadeus, A Streetcar Named Desire, The Best Years of Our Lives, Doctor Zhivago, Braveheart, The Good, the Bad and the Ugly, Goodfellas, City Lights, The King's Speech, A Place in the Sun, Midnight Cowboy, Mr. Smith Goes to Washington, Rain Man, Annie Hall, Out of Africa, Good Will Hunting, Terms of Endearment, Giant, Network, Yankee Doodle Dandy\n",
      "\n",
      "Cluster 3 words: n't,days,friend,comes,say,house\n",
      "Cluster 3 titles (26) movies: \n",
      "Raging Bull, One Flew Over the Cuckoo's Nest, Gone with the Wind, The Wizard of Oz, Psycho, Vertigo, West Side Story, E.T. the Extra-Terrestrial, Some Like It Hot, Gandhi, Rocky, The Philadelphia Story, An American in Paris, My Fair Lady, Ben-Hur, The Exorcist, All Quiet on the Western Front, Tootsie, The Grapes of Wrath, Nashville, American Graffiti, Pulp Fiction, The African Queen, A Clockwork Orange, Wuthering Heights, The Third Man\n",
      "\n",
      "Cluster 4 words: killing,death,men,use,john,shooting\n",
      "Cluster 4 titles (23) movies: \n",
      "The Shawshank Redemption, On the Waterfront, Star Wars, 2001: A Space Odyssey, Chinatown, The Bridge on the River Kwai, 12 Angry Men, Gladiator, From Here to Eternity, Saving Private Ryan, Unforgiven, Raiders of the Lost Ark, To Kill a Mockingbird, Jaws, Butch Cassidy and the Sundance Kid, The Treasure of the Sierra Madre, Platoon, High Noon, The Deer Hunter, Shane, The Green Mile, Close Encounters of the Third Kind, Taxi Driver\n",
      "\n"
     ]
    }
   ],
   "source": [
    "topic_doc_dict={}\n",
    "\n",
    "print '<Document clustering result in LDA>'\n",
    "for i in xrange(len(doc_topic)):\n",
    "    topicID=doc_topic[i].argmax()\n",
    "    if topicID not in topic_doc_dict:\n",
    "        topic_doc_dict[topicID]=[titles[i]]\n",
    "    else:\n",
    "        topic_doc_dict[topicID].append(titles[i])\n",
    "for i in topic_doc_dict:\n",
    "    print 'Cluster '+str(i)+' words: '+','.join(topic_keywords_list[i])\n",
    "    print 'Cluster '+str(i)+' titles ('+str(len(topic_doc_dict[i]))+') movies: '\n",
    "    print ', '.join(topic_doc_dict[i])\n",
    "    print"
   ]
  },
  {
   "cell_type": "code",
   "execution_count": null,
   "metadata": {
    "collapsed": true
   },
   "outputs": [],
   "source": []
  }
 ],
 "metadata": {
  "kernelspec": {
   "display_name": "Python 3",
   "language": "python",
   "name": "python3"
  },
  "language_info": {
   "codemirror_mode": {
    "name": "ipython",
    "version": 3
   },
   "file_extension": ".py",
   "mimetype": "text/x-python",
   "name": "python",
   "nbconvert_exporter": "python",
   "pygments_lexer": "ipython3",
   "version": "3.6.5"
  }
 },
 "nbformat": 4,
 "nbformat_minor": 2
}
